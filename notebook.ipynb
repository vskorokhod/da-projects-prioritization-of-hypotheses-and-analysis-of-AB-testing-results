{
 "cells": [
  {
   "cell_type": "markdown",
   "metadata": {},
   "source": [
    "# Исследование для интернет-магазина: приоритизация гипотез и анализ проведённого A/B-теста"
   ]
  },
  {
   "cell_type": "markdown",
   "metadata": {},
   "source": [
    "<div style=\"border:solid black 2px; padding: 20px\">    \n",
    "    Этот проект разделён на две части. В первой мы оценим ряд гипотез двумя способами и выясним, над какими стоит работать в первую очередь. Во второй части проанализируем результаты проведённого A/B тестирования и ответим на такие вопросы: стоит ли продолжать тест и признать ли его успешным или неуспешным в случае остановки\n",
    "    <br><br>\n",
    "    Данные:\n",
    "    <ul>\n",
    "        <li>Для первой части - файл со списком гипотез и их оценками по параметрам Reach, Impact, Confidence, Effort</li>\n",
    "        <li>Для второй части - два файла: выгрузка заказов и общее количество пользователей за определённый период</li>\n",
    "    </ul>\n",
    "</div>"
   ]
  },
  {
   "cell_type": "markdown",
   "metadata": {},
   "source": [
    "<i>Загрузим библиотеки, которые понадобятся нам в работе</i>"
   ]
  },
  {
   "cell_type": "code",
   "execution_count": 1,
   "metadata": {},
   "outputs": [],
   "source": [
    "import pandas as pd\n",
    "import scipy.stats as stats\n",
    "import numpy as np\n",
    "import matplotlib.pyplot as plt\n",
    "import math"
   ]
  },
  {
   "cell_type": "markdown",
   "metadata": {},
   "source": [
    "## Приоритизация гипотез"
   ]
  },
  {
   "cell_type": "markdown",
   "metadata": {},
   "source": [
    "### Подготовка данных"
   ]
  },
  {
   "cell_type": "markdown",
   "metadata": {},
   "source": [
    "<i>Загрузим данные о гипотезах и посмотрим на них</i>"
   ]
  },
  {
   "cell_type": "code",
   "execution_count": 2,
   "metadata": {
    "scrolled": false
   },
   "outputs": [
    {
     "data": {
      "text/html": [
       "<div>\n",
       "<style scoped>\n",
       "    .dataframe tbody tr th:only-of-type {\n",
       "        vertical-align: middle;\n",
       "    }\n",
       "\n",
       "    .dataframe tbody tr th {\n",
       "        vertical-align: top;\n",
       "    }\n",
       "\n",
       "    .dataframe thead th {\n",
       "        text-align: right;\n",
       "    }\n",
       "</style>\n",
       "<table border=\"1\" class=\"dataframe\">\n",
       "  <thead>\n",
       "    <tr style=\"text-align: right;\">\n",
       "      <th></th>\n",
       "      <th>Hypothesis</th>\n",
       "      <th>Reach</th>\n",
       "      <th>Impact</th>\n",
       "      <th>Confidence</th>\n",
       "      <th>Efforts</th>\n",
       "    </tr>\n",
       "  </thead>\n",
       "  <tbody>\n",
       "    <tr>\n",
       "      <th>0</th>\n",
       "      <td>Добавить два новых канала привлечения трафика,...</td>\n",
       "      <td>3</td>\n",
       "      <td>10</td>\n",
       "      <td>8</td>\n",
       "      <td>6</td>\n",
       "    </tr>\n",
       "    <tr>\n",
       "      <th>1</th>\n",
       "      <td>Запустить собственную службу доставки, что сок...</td>\n",
       "      <td>2</td>\n",
       "      <td>5</td>\n",
       "      <td>4</td>\n",
       "      <td>10</td>\n",
       "    </tr>\n",
       "    <tr>\n",
       "      <th>2</th>\n",
       "      <td>Добавить блоки рекомендаций товаров на сайт ин...</td>\n",
       "      <td>8</td>\n",
       "      <td>3</td>\n",
       "      <td>7</td>\n",
       "      <td>3</td>\n",
       "    </tr>\n",
       "    <tr>\n",
       "      <th>3</th>\n",
       "      <td>Изменить структура категорий, что увеличит кон...</td>\n",
       "      <td>8</td>\n",
       "      <td>3</td>\n",
       "      <td>3</td>\n",
       "      <td>8</td>\n",
       "    </tr>\n",
       "    <tr>\n",
       "      <th>4</th>\n",
       "      <td>Изменить цвет фона главной страницы, чтобы уве...</td>\n",
       "      <td>3</td>\n",
       "      <td>1</td>\n",
       "      <td>1</td>\n",
       "      <td>1</td>\n",
       "    </tr>\n",
       "    <tr>\n",
       "      <th>5</th>\n",
       "      <td>Добавить страницу отзывов клиентов о магазине,...</td>\n",
       "      <td>3</td>\n",
       "      <td>2</td>\n",
       "      <td>2</td>\n",
       "      <td>3</td>\n",
       "    </tr>\n",
       "    <tr>\n",
       "      <th>6</th>\n",
       "      <td>Показать на главной странице баннеры с актуаль...</td>\n",
       "      <td>5</td>\n",
       "      <td>3</td>\n",
       "      <td>8</td>\n",
       "      <td>3</td>\n",
       "    </tr>\n",
       "    <tr>\n",
       "      <th>7</th>\n",
       "      <td>Добавить форму подписки на все основные страни...</td>\n",
       "      <td>10</td>\n",
       "      <td>7</td>\n",
       "      <td>8</td>\n",
       "      <td>5</td>\n",
       "    </tr>\n",
       "    <tr>\n",
       "      <th>8</th>\n",
       "      <td>Запустить акцию, дающую скидку на товар в день...</td>\n",
       "      <td>1</td>\n",
       "      <td>9</td>\n",
       "      <td>9</td>\n",
       "      <td>5</td>\n",
       "    </tr>\n",
       "  </tbody>\n",
       "</table>\n",
       "</div>"
      ],
      "text/plain": [
       "                                          Hypothesis  Reach  Impact  \\\n",
       "0  Добавить два новых канала привлечения трафика,...      3      10   \n",
       "1  Запустить собственную службу доставки, что сок...      2       5   \n",
       "2  Добавить блоки рекомендаций товаров на сайт ин...      8       3   \n",
       "3  Изменить структура категорий, что увеличит кон...      8       3   \n",
       "4  Изменить цвет фона главной страницы, чтобы уве...      3       1   \n",
       "5  Добавить страницу отзывов клиентов о магазине,...      3       2   \n",
       "6  Показать на главной странице баннеры с актуаль...      5       3   \n",
       "7  Добавить форму подписки на все основные страни...     10       7   \n",
       "8  Запустить акцию, дающую скидку на товар в день...      1       9   \n",
       "\n",
       "   Confidence  Efforts  \n",
       "0           8        6  \n",
       "1           4       10  \n",
       "2           7        3  \n",
       "3           3        8  \n",
       "4           1        1  \n",
       "5           2        3  \n",
       "6           8        3  \n",
       "7           8        5  \n",
       "8           9        5  "
      ]
     },
     "metadata": {},
     "output_type": "display_data"
    }
   ],
   "source": [
    "try:\n",
    "    data = pd.read_csv('data/hypothesis.csv')\n",
    "    display(data)\n",
    "except:\n",
    "    print('Не удалось загрузить данные о гипотезах. Проверьте правильность пути')"
   ]
  },
  {
   "cell_type": "markdown",
   "metadata": {},
   "source": [
    "<i>У нас небольшой датасет - всего 9 строк, без пропусков и дублей, поэтому результаты можно выводить для всего датасета. Приведём названия столбцов к нижнему регистру. Затем проверим, что преобразование проведено успешно. Заодно уберём ограничение на отображаемую ширину столбца, чтобы прочесть гипотезы полностью</i>"
   ]
  },
  {
   "cell_type": "code",
   "execution_count": 3,
   "metadata": {},
   "outputs": [
    {
     "data": {
      "text/html": [
       "<div>\n",
       "<style scoped>\n",
       "    .dataframe tbody tr th:only-of-type {\n",
       "        vertical-align: middle;\n",
       "    }\n",
       "\n",
       "    .dataframe tbody tr th {\n",
       "        vertical-align: top;\n",
       "    }\n",
       "\n",
       "    .dataframe thead th {\n",
       "        text-align: right;\n",
       "    }\n",
       "</style>\n",
       "<table border=\"1\" class=\"dataframe\">\n",
       "  <thead>\n",
       "    <tr style=\"text-align: right;\">\n",
       "      <th></th>\n",
       "      <th>hypothesis</th>\n",
       "      <th>reach</th>\n",
       "      <th>impact</th>\n",
       "      <th>confidence</th>\n",
       "      <th>efforts</th>\n",
       "    </tr>\n",
       "  </thead>\n",
       "  <tbody>\n",
       "    <tr>\n",
       "      <th>0</th>\n",
       "      <td>Добавить два новых канала привлечения трафика, что позволит привлекать на 30% больше пользователей</td>\n",
       "      <td>3</td>\n",
       "      <td>10</td>\n",
       "      <td>8</td>\n",
       "      <td>6</td>\n",
       "    </tr>\n",
       "    <tr>\n",
       "      <th>1</th>\n",
       "      <td>Запустить собственную службу доставки, что сократит срок доставки заказов</td>\n",
       "      <td>2</td>\n",
       "      <td>5</td>\n",
       "      <td>4</td>\n",
       "      <td>10</td>\n",
       "    </tr>\n",
       "    <tr>\n",
       "      <th>2</th>\n",
       "      <td>Добавить блоки рекомендаций товаров на сайт интернет магазина, чтобы повысить конверсию и средний чек заказа</td>\n",
       "      <td>8</td>\n",
       "      <td>3</td>\n",
       "      <td>7</td>\n",
       "      <td>3</td>\n",
       "    </tr>\n",
       "    <tr>\n",
       "      <th>3</th>\n",
       "      <td>Изменить структура категорий, что увеличит конверсию, т.к. пользователи быстрее найдут нужный товар</td>\n",
       "      <td>8</td>\n",
       "      <td>3</td>\n",
       "      <td>3</td>\n",
       "      <td>8</td>\n",
       "    </tr>\n",
       "    <tr>\n",
       "      <th>4</th>\n",
       "      <td>Изменить цвет фона главной страницы, чтобы увеличить вовлеченность пользователей</td>\n",
       "      <td>3</td>\n",
       "      <td>1</td>\n",
       "      <td>1</td>\n",
       "      <td>1</td>\n",
       "    </tr>\n",
       "    <tr>\n",
       "      <th>5</th>\n",
       "      <td>Добавить страницу отзывов клиентов о магазине, что позволит увеличить количество заказов</td>\n",
       "      <td>3</td>\n",
       "      <td>2</td>\n",
       "      <td>2</td>\n",
       "      <td>3</td>\n",
       "    </tr>\n",
       "    <tr>\n",
       "      <th>6</th>\n",
       "      <td>Показать на главной странице баннеры с актуальными акциями и распродажами, чтобы увеличить конверсию</td>\n",
       "      <td>5</td>\n",
       "      <td>3</td>\n",
       "      <td>8</td>\n",
       "      <td>3</td>\n",
       "    </tr>\n",
       "    <tr>\n",
       "      <th>7</th>\n",
       "      <td>Добавить форму подписки на все основные страницы, чтобы собрать базу клиентов для email-рассылок</td>\n",
       "      <td>10</td>\n",
       "      <td>7</td>\n",
       "      <td>8</td>\n",
       "      <td>5</td>\n",
       "    </tr>\n",
       "    <tr>\n",
       "      <th>8</th>\n",
       "      <td>Запустить акцию, дающую скидку на товар в день рождения</td>\n",
       "      <td>1</td>\n",
       "      <td>9</td>\n",
       "      <td>9</td>\n",
       "      <td>5</td>\n",
       "    </tr>\n",
       "  </tbody>\n",
       "</table>\n",
       "</div>"
      ],
      "text/plain": [
       "                                                                                                     hypothesis  \\\n",
       "0            Добавить два новых канала привлечения трафика, что позволит привлекать на 30% больше пользователей   \n",
       "1                                     Запустить собственную службу доставки, что сократит срок доставки заказов   \n",
       "2  Добавить блоки рекомендаций товаров на сайт интернет магазина, чтобы повысить конверсию и средний чек заказа   \n",
       "3           Изменить структура категорий, что увеличит конверсию, т.к. пользователи быстрее найдут нужный товар   \n",
       "4                              Изменить цвет фона главной страницы, чтобы увеличить вовлеченность пользователей   \n",
       "5                      Добавить страницу отзывов клиентов о магазине, что позволит увеличить количество заказов   \n",
       "6          Показать на главной странице баннеры с актуальными акциями и распродажами, чтобы увеличить конверсию   \n",
       "7              Добавить форму подписки на все основные страницы, чтобы собрать базу клиентов для email-рассылок   \n",
       "8                                                       Запустить акцию, дающую скидку на товар в день рождения   \n",
       "\n",
       "   reach  impact  confidence  efforts  \n",
       "0      3      10           8        6  \n",
       "1      2       5           4       10  \n",
       "2      8       3           7        3  \n",
       "3      8       3           3        8  \n",
       "4      3       1           1        1  \n",
       "5      3       2           2        3  \n",
       "6      5       3           8        3  \n",
       "7     10       7           8        5  \n",
       "8      1       9           9        5  "
      ]
     },
     "execution_count": 3,
     "metadata": {},
     "output_type": "execute_result"
    }
   ],
   "source": [
    "pd.set_option('display.max_colwidth', None)\n",
    "data.columns = [x.lower() for x in data.columns.values]\n",
    "data"
   ]
  },
  {
   "cell_type": "markdown",
   "metadata": {},
   "source": [
    "<i>Всё хорошо. Теперь можем приступать к приоритизации</i>"
   ]
  },
  {
   "cell_type": "markdown",
   "metadata": {},
   "source": [
    "### ICE"
   ]
  },
  {
   "cell_type": "markdown",
   "metadata": {},
   "source": [
    "<i>Для начала применим методику ICE: добавим в данные столбец, посчитанный по соответствующей формуле, а потом выведем отсортированные по этому параметру в порядке убывания гипотезы. Таким образом, наверху окажутся самые приоритетные согласно этой методологии гипотезы</i>"
   ]
  },
  {
   "cell_type": "markdown",
   "metadata": {},
   "source": [
    "$$ICE = \\frac{Impact * Confidence}{Efforts}$$\n",
    "\n",
    "$$RICE = \\frac{Rearch * Impact * Confidence}{Efforts}$$"
   ]
  },
  {
   "cell_type": "code",
   "execution_count": 4,
   "metadata": {
    "scrolled": true
   },
   "outputs": [
    {
     "data": {
      "text/html": [
       "<div>\n",
       "<style scoped>\n",
       "    .dataframe tbody tr th:only-of-type {\n",
       "        vertical-align: middle;\n",
       "    }\n",
       "\n",
       "    .dataframe tbody tr th {\n",
       "        vertical-align: top;\n",
       "    }\n",
       "\n",
       "    .dataframe thead th {\n",
       "        text-align: right;\n",
       "    }\n",
       "</style>\n",
       "<table border=\"1\" class=\"dataframe\">\n",
       "  <thead>\n",
       "    <tr style=\"text-align: right;\">\n",
       "      <th></th>\n",
       "      <th>hypothesis</th>\n",
       "      <th>ICE</th>\n",
       "    </tr>\n",
       "  </thead>\n",
       "  <tbody>\n",
       "    <tr>\n",
       "      <th>8</th>\n",
       "      <td>Запустить акцию, дающую скидку на товар в день рождения</td>\n",
       "      <td>16.200000</td>\n",
       "    </tr>\n",
       "    <tr>\n",
       "      <th>0</th>\n",
       "      <td>Добавить два новых канала привлечения трафика, что позволит привлекать на 30% больше пользователей</td>\n",
       "      <td>13.333333</td>\n",
       "    </tr>\n",
       "    <tr>\n",
       "      <th>7</th>\n",
       "      <td>Добавить форму подписки на все основные страницы, чтобы собрать базу клиентов для email-рассылок</td>\n",
       "      <td>11.200000</td>\n",
       "    </tr>\n",
       "    <tr>\n",
       "      <th>6</th>\n",
       "      <td>Показать на главной странице баннеры с актуальными акциями и распродажами, чтобы увеличить конверсию</td>\n",
       "      <td>8.000000</td>\n",
       "    </tr>\n",
       "    <tr>\n",
       "      <th>2</th>\n",
       "      <td>Добавить блоки рекомендаций товаров на сайт интернет магазина, чтобы повысить конверсию и средний чек заказа</td>\n",
       "      <td>7.000000</td>\n",
       "    </tr>\n",
       "    <tr>\n",
       "      <th>1</th>\n",
       "      <td>Запустить собственную службу доставки, что сократит срок доставки заказов</td>\n",
       "      <td>2.000000</td>\n",
       "    </tr>\n",
       "    <tr>\n",
       "      <th>5</th>\n",
       "      <td>Добавить страницу отзывов клиентов о магазине, что позволит увеличить количество заказов</td>\n",
       "      <td>1.333333</td>\n",
       "    </tr>\n",
       "    <tr>\n",
       "      <th>3</th>\n",
       "      <td>Изменить структура категорий, что увеличит конверсию, т.к. пользователи быстрее найдут нужный товар</td>\n",
       "      <td>1.125000</td>\n",
       "    </tr>\n",
       "    <tr>\n",
       "      <th>4</th>\n",
       "      <td>Изменить цвет фона главной страницы, чтобы увеличить вовлеченность пользователей</td>\n",
       "      <td>1.000000</td>\n",
       "    </tr>\n",
       "  </tbody>\n",
       "</table>\n",
       "</div>"
      ],
      "text/plain": [
       "                                                                                                     hypothesis  \\\n",
       "8                                                       Запустить акцию, дающую скидку на товар в день рождения   \n",
       "0            Добавить два новых канала привлечения трафика, что позволит привлекать на 30% больше пользователей   \n",
       "7              Добавить форму подписки на все основные страницы, чтобы собрать базу клиентов для email-рассылок   \n",
       "6          Показать на главной странице баннеры с актуальными акциями и распродажами, чтобы увеличить конверсию   \n",
       "2  Добавить блоки рекомендаций товаров на сайт интернет магазина, чтобы повысить конверсию и средний чек заказа   \n",
       "1                                     Запустить собственную службу доставки, что сократит срок доставки заказов   \n",
       "5                      Добавить страницу отзывов клиентов о магазине, что позволит увеличить количество заказов   \n",
       "3           Изменить структура категорий, что увеличит конверсию, т.к. пользователи быстрее найдут нужный товар   \n",
       "4                              Изменить цвет фона главной страницы, чтобы увеличить вовлеченность пользователей   \n",
       "\n",
       "         ICE  \n",
       "8  16.200000  \n",
       "0  13.333333  \n",
       "7  11.200000  \n",
       "6   8.000000  \n",
       "2   7.000000  \n",
       "1   2.000000  \n",
       "5   1.333333  \n",
       "3   1.125000  \n",
       "4   1.000000  "
      ]
     },
     "execution_count": 4,
     "metadata": {},
     "output_type": "execute_result"
    }
   ],
   "source": [
    "data['ICE'] = data['impact'] * data['confidence'] / data['efforts']\n",
    "data[['hypothesis', 'ICE']].sort_values(by='ICE', ascending=False)"
   ]
  },
  {
   "cell_type": "markdown",
   "metadata": {},
   "source": [
    "<i>В лидерах гипотезы о запуске акции на день рождения, новых каналах привлечения трафика и о форме подписки на всех основных страницах - и это неудивительно, ведь параметры Impact и Confidence у них наибольшие относительно других. То есть, эти изменения окажут сильное влияние на охватываемую аудиторию. При этом усилия, затрачиваемые на реализацию этих идей, оцениваются средне, есть и те, которые проще значительно имплементировать - однако они сильно проигрывают лидерам по первым двум параметрам</i>"
   ]
  },
  {
   "cell_type": "markdown",
   "metadata": {},
   "source": [
    "### RICE"
   ]
  },
  {
   "cell_type": "markdown",
   "metadata": {},
   "source": [
    "<i>Проведём аналогичные расчёты по методологии RICE: добавим в числитель множитель Reach - долю пользователей, которых затронет каждое конкретное изменение</i>"
   ]
  },
  {
   "cell_type": "code",
   "execution_count": 5,
   "metadata": {
    "scrolled": false
   },
   "outputs": [
    {
     "data": {
      "text/html": [
       "<div>\n",
       "<style scoped>\n",
       "    .dataframe tbody tr th:only-of-type {\n",
       "        vertical-align: middle;\n",
       "    }\n",
       "\n",
       "    .dataframe tbody tr th {\n",
       "        vertical-align: top;\n",
       "    }\n",
       "\n",
       "    .dataframe thead th {\n",
       "        text-align: right;\n",
       "    }\n",
       "</style>\n",
       "<table border=\"1\" class=\"dataframe\">\n",
       "  <thead>\n",
       "    <tr style=\"text-align: right;\">\n",
       "      <th></th>\n",
       "      <th>hypothesis</th>\n",
       "      <th>RICE</th>\n",
       "    </tr>\n",
       "  </thead>\n",
       "  <tbody>\n",
       "    <tr>\n",
       "      <th>7</th>\n",
       "      <td>Добавить форму подписки на все основные страницы, чтобы собрать базу клиентов для email-рассылок</td>\n",
       "      <td>112.0</td>\n",
       "    </tr>\n",
       "    <tr>\n",
       "      <th>2</th>\n",
       "      <td>Добавить блоки рекомендаций товаров на сайт интернет магазина, чтобы повысить конверсию и средний чек заказа</td>\n",
       "      <td>56.0</td>\n",
       "    </tr>\n",
       "    <tr>\n",
       "      <th>0</th>\n",
       "      <td>Добавить два новых канала привлечения трафика, что позволит привлекать на 30% больше пользователей</td>\n",
       "      <td>40.0</td>\n",
       "    </tr>\n",
       "    <tr>\n",
       "      <th>6</th>\n",
       "      <td>Показать на главной странице баннеры с актуальными акциями и распродажами, чтобы увеличить конверсию</td>\n",
       "      <td>40.0</td>\n",
       "    </tr>\n",
       "    <tr>\n",
       "      <th>8</th>\n",
       "      <td>Запустить акцию, дающую скидку на товар в день рождения</td>\n",
       "      <td>16.2</td>\n",
       "    </tr>\n",
       "    <tr>\n",
       "      <th>3</th>\n",
       "      <td>Изменить структура категорий, что увеличит конверсию, т.к. пользователи быстрее найдут нужный товар</td>\n",
       "      <td>9.0</td>\n",
       "    </tr>\n",
       "    <tr>\n",
       "      <th>1</th>\n",
       "      <td>Запустить собственную службу доставки, что сократит срок доставки заказов</td>\n",
       "      <td>4.0</td>\n",
       "    </tr>\n",
       "    <tr>\n",
       "      <th>5</th>\n",
       "      <td>Добавить страницу отзывов клиентов о магазине, что позволит увеличить количество заказов</td>\n",
       "      <td>4.0</td>\n",
       "    </tr>\n",
       "    <tr>\n",
       "      <th>4</th>\n",
       "      <td>Изменить цвет фона главной страницы, чтобы увеличить вовлеченность пользователей</td>\n",
       "      <td>3.0</td>\n",
       "    </tr>\n",
       "  </tbody>\n",
       "</table>\n",
       "</div>"
      ],
      "text/plain": [
       "                                                                                                     hypothesis  \\\n",
       "7              Добавить форму подписки на все основные страницы, чтобы собрать базу клиентов для email-рассылок   \n",
       "2  Добавить блоки рекомендаций товаров на сайт интернет магазина, чтобы повысить конверсию и средний чек заказа   \n",
       "0            Добавить два новых канала привлечения трафика, что позволит привлекать на 30% больше пользователей   \n",
       "6          Показать на главной странице баннеры с актуальными акциями и распродажами, чтобы увеличить конверсию   \n",
       "8                                                       Запустить акцию, дающую скидку на товар в день рождения   \n",
       "3           Изменить структура категорий, что увеличит конверсию, т.к. пользователи быстрее найдут нужный товар   \n",
       "1                                     Запустить собственную службу доставки, что сократит срок доставки заказов   \n",
       "5                      Добавить страницу отзывов клиентов о магазине, что позволит увеличить количество заказов   \n",
       "4                              Изменить цвет фона главной страницы, чтобы увеличить вовлеченность пользователей   \n",
       "\n",
       "    RICE  \n",
       "7  112.0  \n",
       "2   56.0  \n",
       "0   40.0  \n",
       "6   40.0  \n",
       "8   16.2  \n",
       "3    9.0  \n",
       "1    4.0  \n",
       "5    4.0  \n",
       "4    3.0  "
      ]
     },
     "execution_count": 5,
     "metadata": {},
     "output_type": "execute_result"
    }
   ],
   "source": [
    "data['RICE'] = data['reach'] * data['impact'] * data['confidence'] / data['efforts']\n",
    "data[['hypothesis', 'RICE']].sort_values(by='RICE', ascending=False)"
   ]
  },
  {
   "cell_type": "markdown",
   "metadata": {},
   "source": [
    "<i>Здесь же ситуация изменилась: в лидеры (причём с двукратным отрывом) вырвалась гипотеза 7 - это произошло потому, что параметр Reach у неё максимальный - то есть, это изменение затронет абсолютно всех пользователей сервиса. Наш прошлый лидер - гипотеза 8 - сильно упала в этом рейтинге, ведь это изменение охватывает малый процент пользователей единомоментно (только тех, у кого день рождения). В целом, первая пятёрка осталась прежней, но места распределились иначе</i>"
   ]
  },
  {
   "cell_type": "markdown",
   "metadata": {},
   "source": [
    "<div style=\"font-size:2rem; font-weight:bold\">Вывод</div>\n",
    "<p></p>\n",
    "<div style=\"border:solid green 2px; padding: 20px\">\n",
    "    <i><b>В зависимости от того, какой способ приоритизиации гипотез используется в компании, следует отдавать предпочтения разным гипотезам. Однако хорошим решением было бы оценить важность идей сразу по обеим шкалам в комплексе - и, таким образом, в первую очередь следовало бы заняться разработкой идей 7 и 0 (они имеют высокую оценку по обеим методикам)</b></i>\n",
    "</div>"
   ]
  },
  {
   "cell_type": "code",
   "execution_count": 6,
   "metadata": {},
   "outputs": [
    {
     "data": {
      "image/png": "[encoded data removed]",
      "text/plain": [
       "<Figure size 720x720 with 1 Axes>"
      ]
     },
     "metadata": {
      "needs_background": "light"
     },
     "output_type": "display_data"
    }
   ],
   "source": [
    "y = data['ICE'] \n",
    "z = data['RICE'] \n",
    "n = data.index \n",
    "\n",
    "fig, ax = plt.subplots()\n",
    "ax.scatter(z, y)\n",
    "\n",
    "for i, txt in enumerate(n):\n",
    "    ax.annotate(txt, (z[i], y[i]), size=30)\n",
    "\n",
    "plt.title(\"ICE and RICE гипотезы\") \n",
    "plt.xlabel(\"RICE\") \n",
    "plt.ylabel(\"ICE\")\n",
    "plt.grid()    \n",
    "    \n",
    "fig.set_figheight(10)\n",
    "fig.set_figwidth(10) \n",
    "plt.show() "
   ]
  },
  {
   "cell_type": "code",
   "execution_count": 7,
   "metadata": {
    "scrolled": true
   },
   "outputs": [
    {
     "data": {
      "text/html": [
       "<div>\n",
       "<style scoped>\n",
       "    .dataframe tbody tr th:only-of-type {\n",
       "        vertical-align: middle;\n",
       "    }\n",
       "\n",
       "    .dataframe tbody tr th {\n",
       "        vertical-align: top;\n",
       "    }\n",
       "\n",
       "    .dataframe thead th {\n",
       "        text-align: right;\n",
       "    }\n",
       "</style>\n",
       "<table border=\"1\" class=\"dataframe\">\n",
       "  <thead>\n",
       "    <tr style=\"text-align: right;\">\n",
       "      <th></th>\n",
       "      <th>ICE</th>\n",
       "      <th>RICE</th>\n",
       "      <th>distance</th>\n",
       "    </tr>\n",
       "  </thead>\n",
       "  <tbody>\n",
       "    <tr>\n",
       "      <th>7</th>\n",
       "      <td>11.200000</td>\n",
       "      <td>112.0</td>\n",
       "      <td>5.000000</td>\n",
       "    </tr>\n",
       "    <tr>\n",
       "      <th>0</th>\n",
       "      <td>13.333333</td>\n",
       "      <td>40.0</td>\n",
       "      <td>10.801626</td>\n",
       "    </tr>\n",
       "    <tr>\n",
       "      <th>2</th>\n",
       "      <td>7.000000</td>\n",
       "      <td>56.0</td>\n",
       "      <td>12.257651</td>\n",
       "    </tr>\n",
       "    <tr>\n",
       "      <th>6</th>\n",
       "      <td>8.000000</td>\n",
       "      <td>40.0</td>\n",
       "      <td>13.255088</td>\n",
       "    </tr>\n",
       "    <tr>\n",
       "      <th>8</th>\n",
       "      <td>16.200000</td>\n",
       "      <td>16.2</td>\n",
       "      <td>13.856786</td>\n",
       "    </tr>\n",
       "    <tr>\n",
       "      <th>1</th>\n",
       "      <td>2.000000</td>\n",
       "      <td>4.0</td>\n",
       "      <td>21.110875</td>\n",
       "    </tr>\n",
       "    <tr>\n",
       "      <th>3</th>\n",
       "      <td>1.125000</td>\n",
       "      <td>9.0</td>\n",
       "      <td>21.194632</td>\n",
       "    </tr>\n",
       "    <tr>\n",
       "      <th>5</th>\n",
       "      <td>1.333333</td>\n",
       "      <td>4.0</td>\n",
       "      <td>21.564944</td>\n",
       "    </tr>\n",
       "    <tr>\n",
       "      <th>4</th>\n",
       "      <td>1.000000</td>\n",
       "      <td>3.0</td>\n",
       "      <td>21.899977</td>\n",
       "    </tr>\n",
       "  </tbody>\n",
       "</table>\n",
       "</div>"
      ],
      "text/plain": [
       "         ICE   RICE   distance\n",
       "7  11.200000  112.0   5.000000\n",
       "0  13.333333   40.0  10.801626\n",
       "2   7.000000   56.0  12.257651\n",
       "6   8.000000   40.0  13.255088\n",
       "8  16.200000   16.2  13.856786\n",
       "1   2.000000    4.0  21.110875\n",
       "3   1.125000    9.0  21.194632\n",
       "5   1.333333    4.0  21.564944\n",
       "4   1.000000    3.0  21.899977"
      ]
     },
     "execution_count": 7,
     "metadata": {},
     "output_type": "execute_result"
    }
   ],
   "source": [
    "coords = pd.concat([y, z], axis=1)\n",
    "\n",
    "icemax = max(coords['ICE'])\n",
    "ricemax = max(coords['RICE'])\n",
    "\n",
    "correct_coeff = icemax / ricemax\n",
    "\n",
    "coords['distance'] = coords.apply(lambda row: math.sqrt((icemax - row['ICE']) ** 2 + \n",
    "                                                        (correct_coeff * (ricemax - row['RICE'])) ** 2), axis=1)\n",
    "coords.sort_values(by='distance')"
   ]
  },
  {
   "cell_type": "markdown",
   "metadata": {},
   "source": [
    "## Анализ A/B-теста"
   ]
  },
  {
   "cell_type": "markdown",
   "metadata": {},
   "source": [
    "### Подготовка данных"
   ]
  },
  {
   "cell_type": "markdown",
   "metadata": {},
   "source": [
    "<i>Загрузим нужные нам в работе данные, приведём названия столбцов к общему виду (snake case, нижний регистр) и приведём столбцы с датой к типу datetime</i>"
   ]
  },
  {
   "cell_type": "code",
   "execution_count": 8,
   "metadata": {
    "scrolled": true
   },
   "outputs": [
    {
     "data": {
      "text/html": [
       "<div>\n",
       "<style scoped>\n",
       "    .dataframe tbody tr th:only-of-type {\n",
       "        vertical-align: middle;\n",
       "    }\n",
       "\n",
       "    .dataframe tbody tr th {\n",
       "        vertical-align: top;\n",
       "    }\n",
       "\n",
       "    .dataframe thead th {\n",
       "        text-align: right;\n",
       "    }\n",
       "</style>\n",
       "<table border=\"1\" class=\"dataframe\">\n",
       "  <thead>\n",
       "    <tr style=\"text-align: right;\">\n",
       "      <th></th>\n",
       "      <th>transactionId</th>\n",
       "      <th>visitorId</th>\n",
       "      <th>date</th>\n",
       "      <th>revenue</th>\n",
       "      <th>group</th>\n",
       "    </tr>\n",
       "  </thead>\n",
       "  <tbody>\n",
       "    <tr>\n",
       "      <th>0</th>\n",
       "      <td>3667963787</td>\n",
       "      <td>3312258926</td>\n",
       "      <td>2019-08-15</td>\n",
       "      <td>1650</td>\n",
       "      <td>B</td>\n",
       "    </tr>\n",
       "    <tr>\n",
       "      <th>1</th>\n",
       "      <td>2804400009</td>\n",
       "      <td>3642806036</td>\n",
       "      <td>2019-08-15</td>\n",
       "      <td>730</td>\n",
       "      <td>B</td>\n",
       "    </tr>\n",
       "    <tr>\n",
       "      <th>2</th>\n",
       "      <td>2961555356</td>\n",
       "      <td>4069496402</td>\n",
       "      <td>2019-08-15</td>\n",
       "      <td>400</td>\n",
       "      <td>A</td>\n",
       "    </tr>\n",
       "    <tr>\n",
       "      <th>3</th>\n",
       "      <td>3797467345</td>\n",
       "      <td>1196621759</td>\n",
       "      <td>2019-08-15</td>\n",
       "      <td>9759</td>\n",
       "      <td>B</td>\n",
       "    </tr>\n",
       "    <tr>\n",
       "      <th>4</th>\n",
       "      <td>2282983706</td>\n",
       "      <td>2322279887</td>\n",
       "      <td>2019-08-15</td>\n",
       "      <td>2308</td>\n",
       "      <td>B</td>\n",
       "    </tr>\n",
       "    <tr>\n",
       "      <th>5</th>\n",
       "      <td>182168103</td>\n",
       "      <td>935554773</td>\n",
       "      <td>2019-08-15</td>\n",
       "      <td>2210</td>\n",
       "      <td>B</td>\n",
       "    </tr>\n",
       "    <tr>\n",
       "      <th>6</th>\n",
       "      <td>398296753</td>\n",
       "      <td>2900797465</td>\n",
       "      <td>2019-08-15</td>\n",
       "      <td>1860</td>\n",
       "      <td>B</td>\n",
       "    </tr>\n",
       "    <tr>\n",
       "      <th>7</th>\n",
       "      <td>2626614568</td>\n",
       "      <td>78758296</td>\n",
       "      <td>2019-08-15</td>\n",
       "      <td>1044</td>\n",
       "      <td>A</td>\n",
       "    </tr>\n",
       "    <tr>\n",
       "      <th>8</th>\n",
       "      <td>1576988021</td>\n",
       "      <td>295230930</td>\n",
       "      <td>2019-08-15</td>\n",
       "      <td>13710</td>\n",
       "      <td>A</td>\n",
       "    </tr>\n",
       "    <tr>\n",
       "      <th>9</th>\n",
       "      <td>1506739906</td>\n",
       "      <td>1882260405</td>\n",
       "      <td>2019-08-15</td>\n",
       "      <td>1855</td>\n",
       "      <td>B</td>\n",
       "    </tr>\n",
       "  </tbody>\n",
       "</table>\n",
       "</div>"
      ],
      "text/plain": [
       "   transactionId   visitorId       date  revenue group\n",
       "0     3667963787  3312258926 2019-08-15     1650     B\n",
       "1     2804400009  3642806036 2019-08-15      730     B\n",
       "2     2961555356  4069496402 2019-08-15      400     A\n",
       "3     3797467345  1196621759 2019-08-15     9759     B\n",
       "4     2282983706  2322279887 2019-08-15     2308     B\n",
       "5      182168103   935554773 2019-08-15     2210     B\n",
       "6      398296753  2900797465 2019-08-15     1860     B\n",
       "7     2626614568    78758296 2019-08-15     1044     A\n",
       "8     1576988021   295230930 2019-08-15    13710     A\n",
       "9     1506739906  1882260405 2019-08-15     1855     B"
      ]
     },
     "metadata": {},
     "output_type": "display_data"
    }
   ],
   "source": [
    "try:\n",
    "    orders = pd.read_csv('data/orders.csv', parse_dates=['date'])\n",
    "    display(orders.head(10))\n",
    "except:\n",
    "    print('Не удалось загрузить данные о заказах. Проверьте правильность пути')"
   ]
  },
  {
   "cell_type": "code",
   "execution_count": 9,
   "metadata": {},
   "outputs": [],
   "source": [
    "orders.columns = ['transaction_id', 'visitor_id', 'date', 'revenue', 'group']"
   ]
  },
  {
   "cell_type": "markdown",
   "metadata": {},
   "source": [
    "<i>Проверим, что все преобразования произведены корректно</i>"
   ]
  },
  {
   "cell_type": "code",
   "execution_count": 10,
   "metadata": {
    "scrolled": true
   },
   "outputs": [
    {
     "name": "stdout",
     "output_type": "stream",
     "text": [
      "<class 'pandas.core.frame.DataFrame'>\n",
      "RangeIndex: 1197 entries, 0 to 1196\n",
      "Data columns (total 5 columns):\n",
      " #   Column          Non-Null Count  Dtype         \n",
      "---  ------          --------------  -----         \n",
      " 0   transaction_id  1197 non-null   int64         \n",
      " 1   visitor_id      1197 non-null   int64         \n",
      " 2   date            1197 non-null   datetime64[ns]\n",
      " 3   revenue         1197 non-null   int64         \n",
      " 4   group           1197 non-null   object        \n",
      "dtypes: datetime64[ns](1), int64(3), object(1)\n",
      "memory usage: 46.9+ KB\n"
     ]
    }
   ],
   "source": [
    "orders.info()"
   ]
  },
  {
   "cell_type": "markdown",
   "metadata": {},
   "source": [
    "<i>Пропусков в данных нет. Проверим, нет ли в них дубликатов</i>"
   ]
  },
  {
   "cell_type": "code",
   "execution_count": 11,
   "metadata": {},
   "outputs": [
    {
     "data": {
      "text/plain": [
       "0"
      ]
     },
     "execution_count": 11,
     "metadata": {},
     "output_type": "execute_result"
    }
   ],
   "source": [
    "orders.duplicated().sum()"
   ]
  },
  {
   "cell_type": "markdown",
   "metadata": {},
   "source": [
    "<i>Сделаем то же самое с данными о пользователях</i>"
   ]
  },
  {
   "cell_type": "code",
   "execution_count": 12,
   "metadata": {
    "scrolled": false
   },
   "outputs": [
    {
     "data": {
      "text/html": [
       "<div>\n",
       "<style scoped>\n",
       "    .dataframe tbody tr th:only-of-type {\n",
       "        vertical-align: middle;\n",
       "    }\n",
       "\n",
       "    .dataframe tbody tr th {\n",
       "        vertical-align: top;\n",
       "    }\n",
       "\n",
       "    .dataframe thead th {\n",
       "        text-align: right;\n",
       "    }\n",
       "</style>\n",
       "<table border=\"1\" class=\"dataframe\">\n",
       "  <thead>\n",
       "    <tr style=\"text-align: right;\">\n",
       "      <th></th>\n",
       "      <th>date</th>\n",
       "      <th>group</th>\n",
       "      <th>visitors</th>\n",
       "    </tr>\n",
       "  </thead>\n",
       "  <tbody>\n",
       "    <tr>\n",
       "      <th>0</th>\n",
       "      <td>2019-08-01</td>\n",
       "      <td>A</td>\n",
       "      <td>719</td>\n",
       "    </tr>\n",
       "    <tr>\n",
       "      <th>1</th>\n",
       "      <td>2019-08-02</td>\n",
       "      <td>A</td>\n",
       "      <td>619</td>\n",
       "    </tr>\n",
       "    <tr>\n",
       "      <th>2</th>\n",
       "      <td>2019-08-03</td>\n",
       "      <td>A</td>\n",
       "      <td>507</td>\n",
       "    </tr>\n",
       "    <tr>\n",
       "      <th>3</th>\n",
       "      <td>2019-08-04</td>\n",
       "      <td>A</td>\n",
       "      <td>717</td>\n",
       "    </tr>\n",
       "    <tr>\n",
       "      <th>4</th>\n",
       "      <td>2019-08-05</td>\n",
       "      <td>A</td>\n",
       "      <td>756</td>\n",
       "    </tr>\n",
       "    <tr>\n",
       "      <th>...</th>\n",
       "      <td>...</td>\n",
       "      <td>...</td>\n",
       "      <td>...</td>\n",
       "    </tr>\n",
       "    <tr>\n",
       "      <th>57</th>\n",
       "      <td>2019-08-27</td>\n",
       "      <td>B</td>\n",
       "      <td>720</td>\n",
       "    </tr>\n",
       "    <tr>\n",
       "      <th>58</th>\n",
       "      <td>2019-08-28</td>\n",
       "      <td>B</td>\n",
       "      <td>654</td>\n",
       "    </tr>\n",
       "    <tr>\n",
       "      <th>59</th>\n",
       "      <td>2019-08-29</td>\n",
       "      <td>B</td>\n",
       "      <td>531</td>\n",
       "    </tr>\n",
       "    <tr>\n",
       "      <th>60</th>\n",
       "      <td>2019-08-30</td>\n",
       "      <td>B</td>\n",
       "      <td>490</td>\n",
       "    </tr>\n",
       "    <tr>\n",
       "      <th>61</th>\n",
       "      <td>2019-08-31</td>\n",
       "      <td>B</td>\n",
       "      <td>718</td>\n",
       "    </tr>\n",
       "  </tbody>\n",
       "</table>\n",
       "<p>62 rows × 3 columns</p>\n",
       "</div>"
      ],
      "text/plain": [
       "         date group  visitors\n",
       "0  2019-08-01     A       719\n",
       "1  2019-08-02     A       619\n",
       "2  2019-08-03     A       507\n",
       "3  2019-08-04     A       717\n",
       "4  2019-08-05     A       756\n",
       "..        ...   ...       ...\n",
       "57 2019-08-27     B       720\n",
       "58 2019-08-28     B       654\n",
       "59 2019-08-29     B       531\n",
       "60 2019-08-30     B       490\n",
       "61 2019-08-31     B       718\n",
       "\n",
       "[62 rows x 3 columns]"
      ]
     },
     "metadata": {},
     "output_type": "display_data"
    }
   ],
   "source": [
    "try:\n",
    "    visitors = pd.read_csv('data/visitors.csv', parse_dates=['date'])\n",
    "    display(visitors)\n",
    "except:\n",
    "    print('Не удалось загрузить данные о пользователях. Проверьте правильность пути')"
   ]
  },
  {
   "cell_type": "code",
   "execution_count": 13,
   "metadata": {
    "scrolled": true
   },
   "outputs": [
    {
     "name": "stdout",
     "output_type": "stream",
     "text": [
      "<class 'pandas.core.frame.DataFrame'>\n",
      "RangeIndex: 62 entries, 0 to 61\n",
      "Data columns (total 3 columns):\n",
      " #   Column    Non-Null Count  Dtype         \n",
      "---  ------    --------------  -----         \n",
      " 0   date      62 non-null     datetime64[ns]\n",
      " 1   group     62 non-null     object        \n",
      " 2   visitors  62 non-null     int64         \n",
      "dtypes: datetime64[ns](1), int64(1), object(1)\n",
      "memory usage: 1.6+ KB\n"
     ]
    }
   ],
   "source": [
    "visitors.info()"
   ]
  },
  {
   "cell_type": "markdown",
   "metadata": {},
   "source": [
    "<i>Пропусков нет, ещё проверим данные на наличие дубликатов</i>"
   ]
  },
  {
   "cell_type": "code",
   "execution_count": 14,
   "metadata": {},
   "outputs": [
    {
     "data": {
      "text/plain": [
       "0"
      ]
     },
     "execution_count": 14,
     "metadata": {},
     "output_type": "execute_result"
    }
   ],
   "source": [
    "visitors.duplicated().sum()"
   ]
  },
  {
   "cell_type": "markdown",
   "metadata": {},
   "source": [
    "<i>Посмотрим, сколько всего групп у нас было в рамках A/B-тестирования</i>"
   ]
  },
  {
   "cell_type": "code",
   "execution_count": 15,
   "metadata": {
    "scrolled": false
   },
   "outputs": [
    {
     "data": {
      "text/plain": [
       "array(['B', 'A'], dtype=object)"
      ]
     },
     "execution_count": 15,
     "metadata": {},
     "output_type": "execute_result"
    }
   ],
   "source": [
    "pd.concat([orders['group'], visitors['group']], ignore_index=True).unique()"
   ]
  },
  {
   "cell_type": "markdown",
   "metadata": {},
   "source": [
    "<i>Посмотрим, в течение какого промежутка времени проводился тест</i>"
   ]
  },
  {
   "cell_type": "code",
   "execution_count": 16,
   "metadata": {},
   "outputs": [
    {
     "name": "stdout",
     "output_type": "stream",
     "text": [
      "Начало теста: 2019-08-01\n",
      "Конец теста: 2019-08-31\n"
     ]
    }
   ],
   "source": [
    "dates = pd.to_datetime(pd.concat([orders['date'], visitors['date']], ignore_index=True).unique())\n",
    "print('Начало теста:', min(dates.date))\n",
    "print('Конец теста:', max(dates.date))"
   ]
  },
  {
   "cell_type": "markdown",
   "metadata": {},
   "source": [
    "<i>Проверим, нет ли у нас пользователей, попавших одновременно в обе группы. Учитывать их при исследовании результатов A/B-тестирования не совсем корректно, потому что они исказят разницу между двумя группами, и вообще сам факт наличия таких пользователей исказит саму идею такого тестирования. Для начала посмотрим, сколько у нас всего уникальных пользователей, делавших заказы</i>"
   ]
  },
  {
   "cell_type": "code",
   "execution_count": 17,
   "metadata": {
    "scrolled": true
   },
   "outputs": [
    {
     "data": {
      "text/plain": [
       "1031"
      ]
     },
     "execution_count": 17,
     "metadata": {},
     "output_type": "execute_result"
    }
   ],
   "source": [
    "groups_by_user = orders.groupby('visitor_id')['group'].nunique()\n",
    "len(groups_by_user)"
   ]
  },
  {
   "cell_type": "markdown",
   "metadata": {},
   "source": [
    "<i>Теперь проверим, есть ли у нас пользователи, попавшие сразу в обе группы. Выведем их количество</i>"
   ]
  },
  {
   "cell_type": "code",
   "execution_count": 18,
   "metadata": {
    "scrolled": false
   },
   "outputs": [
    {
     "data": {
      "text/plain": [
       "58"
      ]
     },
     "execution_count": 18,
     "metadata": {},
     "output_type": "execute_result"
    }
   ],
   "source": [
    "both_groups_ids = groups_by_user.loc[lambda x: x > 1].index\n",
    "len(both_groups_ids)"
   ]
  },
  {
   "cell_type": "markdown",
   "metadata": {},
   "source": [
    "<i>Их совсем немного относительно общего числа, поэтому данные о них будет верным решением. Так и поступим, а заодно потом проверим, что преобразования проведены корректно</i>"
   ]
  },
  {
   "cell_type": "code",
   "execution_count": 19,
   "metadata": {},
   "outputs": [],
   "source": [
    "orders = orders[~orders['visitor_id'].isin(both_groups_ids)].reset_index()"
   ]
  },
  {
   "cell_type": "code",
   "execution_count": 20,
   "metadata": {},
   "outputs": [
    {
     "name": "stdout",
     "output_type": "stream",
     "text": [
      "<class 'pandas.core.frame.DataFrame'>\n",
      "RangeIndex: 1016 entries, 0 to 1015\n",
      "Data columns (total 6 columns):\n",
      " #   Column          Non-Null Count  Dtype         \n",
      "---  ------          --------------  -----         \n",
      " 0   index           1016 non-null   int64         \n",
      " 1   transaction_id  1016 non-null   int64         \n",
      " 2   visitor_id      1016 non-null   int64         \n",
      " 3   date            1016 non-null   datetime64[ns]\n",
      " 4   revenue         1016 non-null   int64         \n",
      " 5   group           1016 non-null   object        \n",
      "dtypes: datetime64[ns](1), int64(4), object(1)\n",
      "memory usage: 47.8+ KB\n"
     ]
    }
   ],
   "source": [
    "orders.info()"
   ]
  },
  {
   "cell_type": "markdown",
   "metadata": {},
   "source": [
    "<i>Теперь для вывода графиков кумулятивных показателей нам нужно собрать таблицу с кумулятивными данными</i>"
   ]
  },
  {
   "cell_type": "code",
   "execution_count": 21,
   "metadata": {
    "scrolled": false
   },
   "outputs": [
    {
     "data": {
      "text/html": [
       "<div>\n",
       "<style scoped>\n",
       "    .dataframe tbody tr th:only-of-type {\n",
       "        vertical-align: middle;\n",
       "    }\n",
       "\n",
       "    .dataframe tbody tr th {\n",
       "        vertical-align: top;\n",
       "    }\n",
       "\n",
       "    .dataframe thead th {\n",
       "        text-align: right;\n",
       "    }\n",
       "</style>\n",
       "<table border=\"1\" class=\"dataframe\">\n",
       "  <thead>\n",
       "    <tr style=\"text-align: right;\">\n",
       "      <th></th>\n",
       "      <th>date</th>\n",
       "      <th>group</th>\n",
       "      <th>orders</th>\n",
       "      <th>buyers</th>\n",
       "      <th>revenue</th>\n",
       "      <th>visitors</th>\n",
       "    </tr>\n",
       "  </thead>\n",
       "  <tbody>\n",
       "    <tr>\n",
       "      <th>0</th>\n",
       "      <td>2019-08-01</td>\n",
       "      <td>A</td>\n",
       "      <td>23</td>\n",
       "      <td>19</td>\n",
       "      <td>142779</td>\n",
       "      <td>719</td>\n",
       "    </tr>\n",
       "    <tr>\n",
       "      <th>1</th>\n",
       "      <td>2019-08-01</td>\n",
       "      <td>B</td>\n",
       "      <td>17</td>\n",
       "      <td>17</td>\n",
       "      <td>59758</td>\n",
       "      <td>713</td>\n",
       "    </tr>\n",
       "    <tr>\n",
       "      <th>2</th>\n",
       "      <td>2019-08-02</td>\n",
       "      <td>A</td>\n",
       "      <td>42</td>\n",
       "      <td>36</td>\n",
       "      <td>234381</td>\n",
       "      <td>1338</td>\n",
       "    </tr>\n",
       "    <tr>\n",
       "      <th>3</th>\n",
       "      <td>2019-08-02</td>\n",
       "      <td>B</td>\n",
       "      <td>40</td>\n",
       "      <td>39</td>\n",
       "      <td>221801</td>\n",
       "      <td>1294</td>\n",
       "    </tr>\n",
       "    <tr>\n",
       "      <th>4</th>\n",
       "      <td>2019-08-03</td>\n",
       "      <td>A</td>\n",
       "      <td>66</td>\n",
       "      <td>60</td>\n",
       "      <td>346854</td>\n",
       "      <td>1845</td>\n",
       "    </tr>\n",
       "  </tbody>\n",
       "</table>\n",
       "</div>"
      ],
      "text/plain": [
       "        date group  orders  buyers  revenue  visitors\n",
       "0 2019-08-01     A      23      19   142779       719\n",
       "1 2019-08-01     B      17      17    59758       713\n",
       "2 2019-08-02     A      42      36   234381      1338\n",
       "3 2019-08-02     B      40      39   221801      1294\n",
       "4 2019-08-03     A      66      60   346854      1845"
      ]
     },
     "execution_count": 21,
     "metadata": {},
     "output_type": "execute_result"
    }
   ],
   "source": [
    "# создаём массив уникальных пар значений дат и групп теста\n",
    "datesGroups = orders[['date','group']].drop_duplicates()\n",
    "\n",
    "# получаем агрегированные кумулятивные по дням данные о заказах \n",
    "ordersAggregated = datesGroups.apply(lambda x: orders[np.logical_and(orders['date'] <= x['date'], orders['group'] == x['group'])].agg({'date' : 'max', 'group' : 'max', 'transaction_id' : 'nunique', 'visitor_id' : 'nunique', 'revenue' : 'sum'}), axis=1).sort_values(by=['date','group'])\n",
    "\n",
    "# получаем агрегированные кумулятивные по дням данные о пользователях \n",
    "visitorsAggregated = datesGroups.apply(lambda x: visitors[np.logical_and(visitors['date'] <= x['date'], visitors['group'] == x['group'])].agg({'date' : 'max', 'group' : 'max', 'visitors' : 'sum'}), axis=1).sort_values(by=['date','group'])\n",
    "\n",
    "# объединяем кумулятивные данные в одной таблице\n",
    "cumulativeData = ordersAggregated.merge(visitorsAggregated, left_on=['date', 'group'], right_on=['date', 'group'])\n",
    "cumulativeData.columns = ['date', 'group', 'orders', 'buyers', 'revenue', 'visitors']\n",
    "\n",
    "# выведем первые 5 строк итоговой таблицы\n",
    "cumulativeData.head(5)"
   ]
  },
  {
   "cell_type": "markdown",
   "metadata": {},
   "source": [
    "<i>Проверим, правильно ли был собран новый датафрейм. Выведем минимальную и максимальную даты - они должны соответствовать исходным данным, 1 августа и 31 августа соответственно</i>"
   ]
  },
  {
   "cell_type": "code",
   "execution_count": 22,
   "metadata": {
    "scrolled": true
   },
   "outputs": [
    {
     "name": "stdout",
     "output_type": "stream",
     "text": [
      "Минимальная дата в общей таблице: 2019-08-01 00:00:00\n",
      "Максимальная дата в общей таблице: 2019-08-31 00:00:00\n"
     ]
    }
   ],
   "source": [
    "print('Минимальная дата в общей таблице:', min(cumulativeData['date']))\n",
    "print('Максимальная дата в общей таблице:', max(cumulativeData['date']))"
   ]
  },
  {
   "cell_type": "markdown",
   "metadata": {},
   "source": [
    "<i>Из нашей общей таблицы выделим кумулятивные данные для каждой из групп и сохраним их в отдельные датафреймы</i>"
   ]
  },
  {
   "cell_type": "code",
   "execution_count": 23,
   "metadata": {},
   "outputs": [],
   "source": [
    "# датафрейм с кумулятивным количеством заказов и кумулятивной выручкой по дням в группе А\n",
    "cumulativeDataA = cumulativeData[cumulativeData['group']=='A'][['date','revenue', 'orders', 'visitors']]\n",
    "\n",
    "# добавим ещё столбец с кумулятивным количеством дней - он пригодится нам позже\n",
    "cumulativeDataA.reset_index(drop=True, inplace=True)\n",
    "cumulativeDataA['days'] = (cumulativeDataA.index + 1)\n",
    "\n",
    "# датафрейм с кумулятивным количеством заказов и кумулятивной выручкой по дням в группе B\n",
    "cumulativeDataB = cumulativeData[cumulativeData['group']=='B'][['date','revenue', 'orders', 'visitors']]\n",
    "\n",
    "# добавим ещё столбец с кумулятивным количеством дней - он пригодится нам позже\n",
    "cumulativeDataB.reset_index(drop=True, inplace=True)\n",
    "cumulativeDataB['days'] = (cumulativeDataB.index + 1)"
   ]
  },
  {
   "cell_type": "markdown",
   "metadata": {},
   "source": [
    "### Кумулятивная выручка по группам"
   ]
  },
  {
   "cell_type": "markdown",
   "metadata": {},
   "source": [
    "<i>Построим графики кумулятивной выручки по дням и группам A/B тестирования</i>"
   ]
  },
  {
   "cell_type": "code",
   "execution_count": 24,
   "metadata": {
    "scrolled": true
   },
   "outputs": [
    {
     "data": {
      "image/png": "[encoded data removed]",
      "text/plain": [
       "<Figure size 432x288 with 1 Axes>"
      ]
     },
     "metadata": {
      "needs_background": "light"
     },
     "output_type": "display_data"
    }
   ],
   "source": [
    "# Строим график выручки группы А\n",
    "plt.plot(cumulativeDataA['date'], cumulativeDataA['revenue'], label='A')\n",
    "\n",
    "# Строим график выручки группы B\n",
    "plt.plot(cumulativeDataB['date'], cumulativeDataB['revenue'], label='B')\n",
    "\n",
    "plt.title('Кумулятивная выручка по группам')\n",
    "plt.xticks(rotation = 45)\n",
    "plt.xlabel('Дата')\n",
    "plt.ylabel('Кумулятивная выручка (млн. руб.)')\n",
    "plt.legend()\n",
    "plt.grid()\n",
    "plt.show();"
   ]
  },
  {
   "cell_type": "markdown",
   "metadata": {},
   "source": [
    "<div style=\"border:solid black 1px; padding: 10px\"><i>Выручка увеличивается со временем - это первый признак того, что данные построены верно. Однако для группы B выручка растёт неравномерно - после 17 августа наблюдается большой всплеск. Наверняка это следствие какого-то выброса (очень дорогого заказа)</i></div>"
   ]
  },
  {
   "cell_type": "markdown",
   "metadata": {},
   "source": [
    "### Кумулятивный средний чек по группам"
   ]
  },
  {
   "cell_type": "markdown",
   "metadata": {},
   "source": [
    "<i>Построим графики кумулятивного среднего по дням и группам A/B тестирования</i>"
   ]
  },
  {
   "cell_type": "code",
   "execution_count": 25,
   "metadata": {
    "scrolled": false
   },
   "outputs": [
    {
     "data": {
      "image/png": "[encoded data removed]",
      "text/plain": [
       "<Figure size 432x288 with 1 Axes>"
      ]
     },
     "metadata": {
      "needs_background": "light"
     },
     "output_type": "display_data"
    }
   ],
   "source": [
    "# Строим график среднего чека группы А\n",
    "plt.plot(cumulativeDataA['date'], cumulativeDataA['revenue']/cumulativeDataA['orders'], label='A')\n",
    "\n",
    "# Строим график среднего чека группы B\n",
    "plt.plot(cumulativeDataB['date'], cumulativeDataB['revenue']/cumulativeDataB['orders'], label='B')\n",
    "\n",
    "plt.title('Кумулятивный средний чек по группам')\n",
    "plt.xticks(rotation = 45)\n",
    "plt.xlabel('Дата')\n",
    "plt.ylabel('Кумулятивный средний чек заказа (руб.)')\n",
    "plt.legend()\n",
    "plt.grid()\n",
    "plt.show();"
   ]
  },
  {
   "cell_type": "markdown",
   "metadata": {},
   "source": [
    "<div style=\"border:solid black 1px; padding: 10px\"><i>В начале исследования график среднего чека испытывает сильные колебания - значения не устанавливаются на одном уровне. Опять же, после 17 августа - большой всплеск для группы B, после которого, однако, наблюдается постоянное снижение. Похоже, в этой группе после этой даты снижались темпы прироста количества заказов. Проверим далее положение дел за вычетом выбросов</i></div>"
   ]
  },
  {
   "cell_type": "markdown",
   "metadata": {},
   "source": [
    "### Относительное изменение кумулятивного среднего чека"
   ]
  },
  {
   "cell_type": "markdown",
   "metadata": {},
   "source": [
    "<i>Посмотрим, как различаются средние чеки в обеих группах друг относительно друга</i>"
   ]
  },
  {
   "cell_type": "code",
   "execution_count": 26,
   "metadata": {},
   "outputs": [
    {
     "data": {
      "image/png": "[encoded data removed]",
      "text/plain": [
       "<Figure size 432x288 with 1 Axes>"
      ]
     },
     "metadata": {
      "needs_background": "light"
     },
     "output_type": "display_data"
    }
   ],
   "source": [
    "# собираем данные в одном датафрейме\n",
    "mergedCumulativeData = cumulativeDataA.merge(cumulativeDataB, left_on='date', right_on='date', how='left', suffixes=['A', 'B'])\n",
    "\n",
    "# cтроим отношение средних чеков\n",
    "plt.plot(mergedCumulativeData['date'], (mergedCumulativeData['revenueB']/mergedCumulativeData['ordersB'])/(mergedCumulativeData['revenueA']/mergedCumulativeData['ordersA'])-1)\n",
    "\n",
    "# добавляем ось X\n",
    "plt.axhline(y=0, color='black', linestyle='--')\n",
    "\n",
    "plt.title('Относительное изменение кумулятивного среднего чека группы В к группе А')\n",
    "plt.xticks(rotation = 45)\n",
    "plt.xlabel('Дата')\n",
    "plt.grid()\n",
    "plt.show();"
   ]
  },
  {
   "cell_type": "markdown",
   "metadata": {},
   "source": [
    "<div style=\"border:solid black 1px; padding: 10px\"><i>И здесь нет чётко устоявшейся тенденции - сначала группа В проигрывает группе А, потом опережает, затем снова проигрывает, и потом, благодаря нескольким крупным заказам, значительно вырывается вперёд</i></div>"
   ]
  },
  {
   "cell_type": "markdown",
   "metadata": {},
   "source": [
    "### Кумулятивное среднее количество заказов по группам"
   ]
  },
  {
   "cell_type": "markdown",
   "metadata": {},
   "source": [
    "<i>Построим график кумулятивного среднего количества заказов по группам. Для этого суммарное количество заказов разделим на суммарное количество дней, за которое эти заказы были сделаны</i>"
   ]
  },
  {
   "cell_type": "code",
   "execution_count": 27,
   "metadata": {},
   "outputs": [
    {
     "data": {
      "image/png": "[encoded data removed]",
      "text/plain": [
       "<Figure size 432x288 with 1 Axes>"
      ]
     },
     "metadata": {
      "needs_background": "light"
     },
     "output_type": "display_data"
    }
   ],
   "source": [
    "# Строим график среднего количества заказов группы А\n",
    "plt.plot(cumulativeDataA['date'], cumulativeDataA['orders']/cumulativeDataA['days'], label='A')\n",
    "\n",
    "# Строим график среднего количества заказов группы B\n",
    "plt.plot(cumulativeDataB['date'], cumulativeDataB['orders']/cumulativeDataB['days'], label='B')\n",
    "\n",
    "plt.title('Кумулятивное среднее количество заказов по группам')\n",
    "plt.xticks(rotation = 45)\n",
    "plt.xlabel('Дата')\n",
    "plt.ylabel('Кумулятивное среднее количество заказов')\n",
    "plt.legend()\n",
    "plt.grid()\n",
    "plt.show();"
   ]
  },
  {
   "cell_type": "markdown",
   "metadata": {},
   "source": [
    "<i>Посмотрим ещё на график такой величины, как отношение кумулятивного количества заказов к кумулятивному же количеству посетителей интернет-магазина</i>"
   ]
  },
  {
   "cell_type": "code",
   "execution_count": 28,
   "metadata": {
    "scrolled": true
   },
   "outputs": [
    {
     "data": {
      "image/png": "[encoded data removed]",
      "text/plain": [
       "<Figure size 432x288 with 1 Axes>"
      ]
     },
     "metadata": {
      "needs_background": "light"
     },
     "output_type": "display_data"
    }
   ],
   "source": [
    "# Строим график среднего количества заказов группы А\n",
    "plt.plot(cumulativeDataA['date'], cumulativeDataA['orders']/cumulativeDataA['visitors'], label='A')\n",
    "\n",
    "# Строим график среднего количества заказов группы B\n",
    "plt.plot(cumulativeDataB['date'], cumulativeDataB['orders']/cumulativeDataB['visitors'], label='B')\n",
    "\n",
    "plt.title('Кумулятивное среднее количество заказов по группам\\n(в процентах от количества посетителей)')\n",
    "plt.xticks(rotation = 45)\n",
    "plt.xlabel('Дата')\n",
    "plt.ylabel('Среднее количество заказов\\n(в процентах от количества посетителей)')\n",
    "plt.legend()\n",
    "plt.grid()\n",
    "plt.show();"
   ]
  },
  {
   "cell_type": "markdown",
   "metadata": {},
   "source": [
    "<div style=\"border:solid black 1px; padding: 10px\"><i>Среднее количество заказов в группе В со временем становится больше и так и удерживается (на 2-3 заказа в день в среднем больше, чес в группе А)</i></div>"
   ]
  },
  {
   "cell_type": "markdown",
   "metadata": {},
   "source": [
    "### Относительное изменение кумулятивного среднего количества заказов"
   ]
  },
  {
   "cell_type": "markdown",
   "metadata": {},
   "source": [
    "<i>Построим теперь график отношения кумулятивного среднего количества заказов по группам</i>"
   ]
  },
  {
   "cell_type": "code",
   "execution_count": 29,
   "metadata": {
    "scrolled": true
   },
   "outputs": [
    {
     "data": {
      "image/png": "[encoded data removed]",
      "text/plain": [
       "<Figure size 432x288 with 1 Axes>"
      ]
     },
     "metadata": {
      "needs_background": "light"
     },
     "output_type": "display_data"
    }
   ],
   "source": [
    "# cтроим отношение среднего количества заказов\n",
    "plt.plot(mergedCumulativeData['date'], (mergedCumulativeData['ordersB']/mergedCumulativeData['daysB'])/(mergedCumulativeData['ordersA']/mergedCumulativeData['daysA'])-1)\n",
    "\n",
    "# добавляем ось X\n",
    "plt.axhline(y=0, color='black', linestyle='--')\n",
    "\n",
    "plt.title('Относительное изменение кумулятивного среднего количества заказов группы В к группе А')\n",
    "plt.xticks(rotation = 45)\n",
    "plt.xlabel('Дата')\n",
    "plt.grid()\n",
    "plt.show();"
   ]
  },
  {
   "cell_type": "markdown",
   "metadata": {},
   "source": [
    "<div style=\"border:solid black 1px; padding: 10px\"><i>В группе В в среднем на 15 процентов заказов больше, чем в группе А - и это уже устоявшийся факт</i></div>"
   ]
  },
  {
   "cell_type": "markdown",
   "metadata": {},
   "source": [
    "### Количество заказов по пользователям"
   ]
  },
  {
   "cell_type": "markdown",
   "metadata": {},
   "source": [
    "<i>Подготовим данные: для каждого пользователя укажем количество заказов, сделанных им</i>"
   ]
  },
  {
   "cell_type": "code",
   "execution_count": 30,
   "metadata": {},
   "outputs": [
    {
     "data": {
      "text/html": [
       "<div>\n",
       "<style scoped>\n",
       "    .dataframe tbody tr th:only-of-type {\n",
       "        vertical-align: middle;\n",
       "    }\n",
       "\n",
       "    .dataframe tbody tr th {\n",
       "        vertical-align: top;\n",
       "    }\n",
       "\n",
       "    .dataframe thead th {\n",
       "        text-align: right;\n",
       "    }\n",
       "</style>\n",
       "<table border=\"1\" class=\"dataframe\">\n",
       "  <thead>\n",
       "    <tr style=\"text-align: right;\">\n",
       "      <th></th>\n",
       "      <th>visitor_id</th>\n",
       "      <th>orders</th>\n",
       "    </tr>\n",
       "  </thead>\n",
       "  <tbody>\n",
       "    <tr>\n",
       "      <th>908</th>\n",
       "      <td>3967698036</td>\n",
       "      <td>3</td>\n",
       "    </tr>\n",
       "    <tr>\n",
       "      <th>55</th>\n",
       "      <td>249864742</td>\n",
       "      <td>3</td>\n",
       "    </tr>\n",
       "    <tr>\n",
       "      <th>478</th>\n",
       "      <td>2108163459</td>\n",
       "      <td>3</td>\n",
       "    </tr>\n",
       "    <tr>\n",
       "      <th>687</th>\n",
       "      <td>2988190573</td>\n",
       "      <td>3</td>\n",
       "    </tr>\n",
       "    <tr>\n",
       "      <th>890</th>\n",
       "      <td>3908431265</td>\n",
       "      <td>3</td>\n",
       "    </tr>\n",
       "    <tr>\n",
       "      <th>138</th>\n",
       "      <td>611059232</td>\n",
       "      <td>3</td>\n",
       "    </tr>\n",
       "    <tr>\n",
       "      <th>632</th>\n",
       "      <td>2742574263</td>\n",
       "      <td>3</td>\n",
       "    </tr>\n",
       "    <tr>\n",
       "      <th>157</th>\n",
       "      <td>678354126</td>\n",
       "      <td>2</td>\n",
       "    </tr>\n",
       "    <tr>\n",
       "      <th>323</th>\n",
       "      <td>1404560065</td>\n",
       "      <td>2</td>\n",
       "    </tr>\n",
       "    <tr>\n",
       "      <th>452</th>\n",
       "      <td>1985475298</td>\n",
       "      <td>2</td>\n",
       "    </tr>\n",
       "  </tbody>\n",
       "</table>\n",
       "</div>"
      ],
      "text/plain": [
       "     visitor_id  orders\n",
       "908  3967698036       3\n",
       "55    249864742       3\n",
       "478  2108163459       3\n",
       "687  2988190573       3\n",
       "890  3908431265       3\n",
       "138   611059232       3\n",
       "632  2742574263       3\n",
       "157   678354126       2\n",
       "323  1404560065       2\n",
       "452  1985475298       2"
      ]
     },
     "execution_count": 30,
     "metadata": {},
     "output_type": "execute_result"
    }
   ],
   "source": [
    "ordersByUsers = orders.groupby('visitor_id', as_index=False).agg({'transaction_id': 'nunique'})\n",
    "\n",
    "ordersByUsers.columns = ['visitor_id', 'orders']\n",
    "\n",
    "ordersByUsers.sort_values(by='orders', ascending=False).head(10)"
   ]
  },
  {
   "cell_type": "markdown",
   "metadata": {},
   "source": [
    "<i>Теперь посмотрим на распределение количества заказов на графике</i>"
   ]
  },
  {
   "cell_type": "code",
   "execution_count": 31,
   "metadata": {},
   "outputs": [
    {
     "data": {
      "image/png": "[encoded data removed]",
      "text/plain": [
       "<Figure size 432x288 with 1 Axes>"
      ]
     },
     "metadata": {
      "needs_background": "light"
     },
     "output_type": "display_data"
    }
   ],
   "source": [
    "x_values = pd.Series(range(0,len(ordersByUsers)))\n",
    "\n",
    "plt.scatter(x_values, ordersByUsers['orders'])\n",
    "plt.xlabel('Порядковый номер пользователя')\n",
    "plt.ylabel('Количество заказов')\n",
    "plt.title('Распределение количества заказов по пользователям')\n",
    "plt.grid();"
   ]
  },
  {
   "cell_type": "markdown",
   "metadata": {},
   "source": [
    "<i>Подавляющее количество пользователей совершает 1-2 заказа. Посмотрим теперь соответствующие 95 и 99 перцентили</i>"
   ]
  },
  {
   "cell_type": "code",
   "execution_count": 32,
   "metadata": {},
   "outputs": [
    {
     "data": {
      "text/plain": [
       "array([1., 2.])"
      ]
     },
     "metadata": {},
     "output_type": "display_data"
    }
   ],
   "source": [
    "display(np.percentile(ordersByUsers['orders'], [95, 99]))\n",
    "orders_max = np.percentile(ordersByUsers['orders'], [95, 99])[1]"
   ]
  },
  {
   "cell_type": "markdown",
   "metadata": {},
   "source": [
    "<div style=\"border:solid black 1px; padding: 10px\"><i>95 процентов пользователей не совершают больше 1 заказа, а 99 процентов - не больше 2. Будем считать выбросами всех, сделавших более 2 заказов, чтобы отбросить 1 процент аномальных значений. Сохраним этот порог в отдельную переменную</i></div>"
   ]
  },
  {
   "cell_type": "markdown",
   "metadata": {},
   "source": [
    "### Стоимость заказов"
   ]
  },
  {
   "cell_type": "markdown",
   "metadata": {},
   "source": [
    "<i>Посмотрим на распределение стоимостей заказов</i>"
   ]
  },
  {
   "cell_type": "code",
   "execution_count": 33,
   "metadata": {
    "scrolled": true
   },
   "outputs": [
    {
     "data": {
      "image/png": "[encoded data removed]",
      "text/plain": [
       "<Figure size 432x288 with 1 Axes>"
      ]
     },
     "metadata": {
      "needs_background": "light"
     },
     "output_type": "display_data"
    }
   ],
   "source": [
    "x_values = pd.Series(range(0,len(orders['revenue'])))\n",
    "plt.scatter(x_values, orders['revenue'])\n",
    "plt.xlabel('Порядковый номер заказа')\n",
    "plt.ylabel('Сумма заказа (млн. руб.)')\n",
    "plt.title('Распределение стоимостей заказов')\n",
    "plt.grid();"
   ]
  },
  {
   "cell_type": "markdown",
   "metadata": {},
   "source": [
    "<i>Этот график малоинформативен из-за одного выброса (очень большое значения, больше 1 миллиона - вероятно, это и есть тот заказ, который исказил кумулятивные графики в группе В). Посмотрим на распределение стоимостей заказов в меньшем диапазоне</i>"
   ]
  },
  {
   "cell_type": "code",
   "execution_count": 34,
   "metadata": {
    "scrolled": true
   },
   "outputs": [
    {
     "data": {
      "image/png": "[encoded data removed]",
      "text/plain": [
       "<Figure size 432x288 with 1 Axes>"
      ]
     },
     "metadata": {
      "needs_background": "light"
     },
     "output_type": "display_data"
    }
   ],
   "source": [
    "plt.scatter(x_values, orders['revenue'])\n",
    "plt.ylim(0, 100000)\n",
    "plt.xlabel('Порядковый номер заказа')\n",
    "plt.ylabel('Сумма заказа (руб.)')\n",
    "plt.title('Распределение стоимостей заказов')\n",
    "plt.grid()"
   ]
  },
  {
   "cell_type": "markdown",
   "metadata": {},
   "source": [
    "<i>Здесь уже лучше видно, что большинство заказов - стоимостью примерно до 40000 тысяч рублей. Выведем соответствующие 95 и 99 перцентили</i>"
   ]
  },
  {
   "cell_type": "code",
   "execution_count": 35,
   "metadata": {},
   "outputs": [
    {
     "data": {
      "text/plain": [
       "array([26785., 53904.])"
      ]
     },
     "metadata": {},
     "output_type": "display_data"
    }
   ],
   "source": [
    "display(np.percentile(orders['revenue'], [95, 99]))\n",
    "revenue_max = np.percentile(orders['revenue'], [95, 99])[1]"
   ]
  },
  {
   "cell_type": "markdown",
   "metadata": {},
   "source": [
    "<div style=\"border:solid black 1px; padding: 10px\"><i>Будем считать выбросами те заказы, стоимость которых превышает 54 тысячи рублей. Таким образом отбросим 1% аномальных значений. Сохраним этот порог также в отдельную переменную</i></div>"
   ]
  },
  {
   "cell_type": "markdown",
   "metadata": {},
   "source": [
    "### Статистическая значимость различий в среднем количестве заказов между группами по сырым данным"
   ]
  },
  {
   "cell_type": "markdown",
   "metadata": {},
   "source": [
    "<i>Подготовим данные. Сначала рассчитаем общее количество пользователей в каждой группе в каждый день эксперимента</i>"
   ]
  },
  {
   "cell_type": "code",
   "execution_count": 36,
   "metadata": {},
   "outputs": [
    {
     "name": "stdout",
     "output_type": "stream",
     "text": [
      "        date  visitorsPerDateA  visitorsPerDateB\n",
      "0 2019-08-01               719               713\n",
      "1 2019-08-02               619               581\n",
      "2 2019-08-03               507               509\n",
      "3 2019-08-04               717               770\n",
      "4 2019-08-05               756               707\n"
     ]
    }
   ],
   "source": [
    "visitorsADaily = visitors[visitors['group'] == 'A'][['date', 'visitors']]\n",
    "visitorsADaily.columns = ['date', 'visitorsPerDateA']\n",
    "\n",
    "visitorsBDaily = visitors[visitors['group'] == 'B'][['date', 'visitors']]\n",
    "visitorsBDaily.columns = ['date', 'visitorsPerDateB']\n",
    "\n",
    "\n",
    "data = (\n",
    "    visitorsADaily.merge(\n",
    "        visitorsBDaily, left_on='date', right_on='date', how='left'\n",
    "    )\n",
    ")\n",
    "\n",
    "print(data.head(5)) "
   ]
  },
  {
   "cell_type": "markdown",
   "metadata": {},
   "source": [
    "<i>Теперь для каждой группы посчитаем количество заказов на каждого пользователя</i>"
   ]
  },
  {
   "cell_type": "code",
   "execution_count": 37,
   "metadata": {},
   "outputs": [],
   "source": [
    "ordersByUsersA = (\n",
    "    orders[orders['group'] == 'A']\n",
    "    .groupby('visitor_id', as_index=False)\n",
    "    .agg({'transaction_id': 'nunique'})\n",
    ")\n",
    "ordersByUsersA.columns = ['visitor_id', 'orders']\n",
    "\n",
    "ordersByUsersB = (\n",
    "    orders[orders['group'] == 'B']\n",
    "    .groupby('visitor_id', as_index=False)\n",
    "    .agg({'transaction_id': 'nunique'})\n",
    ")\n",
    "ordersByUsersB.columns = ['visitor_id', 'orders'] "
   ]
  },
  {
   "cell_type": "markdown",
   "metadata": {},
   "source": [
    "<i>Дополним выборки по группам данными о тех пользователях, которые не совершали покупки - определим, что количество заказов для них равно 0</i>"
   ]
  },
  {
   "cell_type": "code",
   "execution_count": 38,
   "metadata": {},
   "outputs": [],
   "source": [
    "sampleA = pd.concat(\n",
    "    [\n",
    "        ordersByUsersA['orders'],\n",
    "        pd.Series(\n",
    "            0,\n",
    "            index=np.arange(\n",
    "                data['visitorsPerDateA'].sum() - len(ordersByUsersA['orders'])\n",
    "            ),\n",
    "            name='orders',\n",
    "        ),\n",
    "    ],\n",
    "    axis=0,\n",
    ")\n",
    "\n",
    "sampleB = pd.concat(\n",
    "    [\n",
    "        ordersByUsersB['orders'],\n",
    "        pd.Series(\n",
    "            0,\n",
    "            index=np.arange(\n",
    "                data['visitorsPerDateB'].sum() - len(ordersByUsersB['orders'])\n",
    "            ),\n",
    "            name='orders',\n",
    "        ),\n",
    "    ],\n",
    "    axis=0,\n",
    ")"
   ]
  },
  {
   "cell_type": "markdown",
   "metadata": {},
   "source": [
    "<i>\n",
    "    <u>Нулевая гипотеза:</u> значимых различий в среднем количестве заказов между группами нет<br>\n",
    "    <u>Альтернативная гипотеза:</u> в среднем количестве заказов есть значимые различия<br>\n",
    "    Проверим p-value\n",
    "</i>"
   ]
  },
  {
   "cell_type": "code",
   "execution_count": 39,
   "metadata": {},
   "outputs": [
    {
     "data": {
      "text/plain": [
       "0.011"
      ]
     },
     "execution_count": 39,
     "metadata": {},
     "output_type": "execute_result"
    }
   ],
   "source": [
    "round(stats.mannwhitneyu(sampleA, sampleB)[1], 3)"
   ]
  },
  {
   "cell_type": "markdown",
   "metadata": {},
   "source": [
    "<i>p-value меньше уровня 0.05, поэтому мы отвергаем нулевую гипотезу - среднее количество заказов между группами всё-таки значимо отличается. Посмотрим на процентное соотношение этой величины между группами</i>"
   ]
  },
  {
   "cell_type": "code",
   "execution_count": 40,
   "metadata": {},
   "outputs": [
    {
     "data": {
      "text/plain": [
       "0.16"
      ]
     },
     "execution_count": 40,
     "metadata": {},
     "output_type": "execute_result"
    }
   ],
   "source": [
    "round(sampleB.mean() / sampleA.mean() - 1, 3)"
   ]
  },
  {
   "cell_type": "markdown",
   "metadata": {},
   "source": [
    "<div style=\"border:solid black 1px; padding: 10px\"><i>Среднее количество заказов значимо различается между группами - в группе В оно выше на 16%</i></div>"
   ]
  },
  {
   "cell_type": "markdown",
   "metadata": {},
   "source": [
    "### Статистическая значимость различий в среднем чеке заказа между группами по сырым данным"
   ]
  },
  {
   "cell_type": "markdown",
   "metadata": {},
   "source": [
    "<i>Проверим значимость различий в среднем чеке между группами<br>\n",
    "    <u>Нулевая гипотеза:</u> значимых различий в среднем чеке между группами нет<br>\n",
    "    <u>Альтернативная гипотеза:</u> есть значимые различия в среднем чеке между группами\n",
    "</i>"
   ]
  },
  {
   "cell_type": "code",
   "execution_count": 41,
   "metadata": {},
   "outputs": [
    {
     "data": {
      "text/plain": [
       "0.829"
      ]
     },
     "execution_count": 41,
     "metadata": {},
     "output_type": "execute_result"
    }
   ],
   "source": [
    "round(stats.mannwhitneyu(orders[orders['group']=='A']['revenue'], orders[orders['group']=='B']['revenue'])[1], 3)"
   ]
  },
  {
   "cell_type": "markdown",
   "metadata": {},
   "source": [
    "<i>p-value значительно больше 0.05, поэтому нулевая гипотеза подтверждается. Посмотрим ещё на соотношение среднего чека между группами</i>"
   ]
  },
  {
   "cell_type": "code",
   "execution_count": 42,
   "metadata": {},
   "outputs": [
    {
     "data": {
      "text/plain": [
       "0.287"
      ]
     },
     "execution_count": 42,
     "metadata": {},
     "output_type": "execute_result"
    }
   ],
   "source": [
    "round(orders[orders['group']=='B']['revenue'].mean()/orders[orders['group']=='A']['revenue'].mean()-1, 3)"
   ]
  },
  {
   "cell_type": "markdown",
   "metadata": {},
   "source": [
    "<div style=\"border:solid black 1px; padding: 10px\"><i>Хоть средний чек группы В и больше среднего чека группы А почти на 29 процентов, основания считать различие статистически значимым у нас нет. Это довольно неожиданный вывод, учитывая такую большую относительную разницу, поэтому стоит проверить наши гипотезы на отфильтрованных данных. Похоже, здесь мы как раз  наблюдаем влияние этих единичных выбросов, которые изменили соотношение среднего чека в пользу группы В</i></div>"
   ]
  },
  {
   "cell_type": "markdown",
   "metadata": {},
   "source": [
    "### Статистическая значимость различий в среднем количестве заказов между группами по очищенным данным"
   ]
  },
  {
   "cell_type": "markdown",
   "metadata": {},
   "source": [
    "<i>Выводы, сделанные в предыдущих разделах, были основаны на полных, \"сырых\" данных, куда входили и выбросы. Правильнее будет произвести сравнение групп без выбросов, тем более что мы уже устанавливали пороги для них. Выделим всех пользователей, подходящих под определение \"аномальные\" в рамках нашего исследования, в отдельный датасет</i>"
   ]
  },
  {
   "cell_type": "code",
   "execution_count": 43,
   "metadata": {},
   "outputs": [],
   "source": [
    "usersWithManyOrders = pd.concat(\n",
    "    [\n",
    "        ordersByUsers[ordersByUsers['orders'] > orders_max]['visitor_id'],\n",
    "    ],\n",
    "    axis=0,\n",
    ")\n",
    "\n",
    "usersWithExpensiveOrders = orders[orders['revenue'] > revenue_max]['visitor_id']\n",
    "\n",
    "abnormalUsers = (\n",
    "    pd.concat([usersWithManyOrders, usersWithExpensiveOrders], axis=0)\n",
    "    .drop_duplicates()\n",
    "    .sort_values()\n",
    ")"
   ]
  },
  {
   "cell_type": "markdown",
   "metadata": {},
   "source": [
    "<i>Теперь в sampleA и sampleB будем определять только тех пользователей, чьи id не находятся в списке \"аномальных\"</i>"
   ]
  },
  {
   "cell_type": "code",
   "execution_count": 44,
   "metadata": {},
   "outputs": [],
   "source": [
    "sampleAFiltered = pd.concat(\n",
    "    [\n",
    "        ordersByUsersA[\n",
    "            np.logical_not(ordersByUsersA['visitor_id'].isin(abnormalUsers))\n",
    "        ]['orders'],\n",
    "        pd.Series(\n",
    "            0,\n",
    "            index=np.arange(\n",
    "                data['visitorsPerDateA'].sum() - len(ordersByUsersA['orders'])\n",
    "            ),\n",
    "            name='orders',\n",
    "        ),\n",
    "    ],\n",
    "    axis=0,\n",
    ")\n",
    "\n",
    "sampleBFiltered = pd.concat(\n",
    "    [\n",
    "        ordersByUsersB[\n",
    "            np.logical_not(ordersByUsersB['visitor_id'].isin(abnormalUsers))\n",
    "        ]['orders'],\n",
    "        pd.Series(\n",
    "            0,\n",
    "            index=np.arange(\n",
    "                data['visitorsPerDateB'].sum() - len(ordersByUsersB['orders'])\n",
    "            ),\n",
    "            name='orders',\n",
    "        ),\n",
    "    ],\n",
    "    axis=0,\n",
    ") "
   ]
  },
  {
   "cell_type": "markdown",
   "metadata": {},
   "source": [
    "<i>\n",
    "    <u>Нулевая гипотеза:</u> значимых различий в среднем количестве заказов между группами нет<br>\n",
    "    <u>Альтернативная гипотеза:</u> в среднем количестве заказов есть значимые различия<br>\n",
    "    Проверим p-value\n",
    "</i>"
   ]
  },
  {
   "cell_type": "code",
   "execution_count": 45,
   "metadata": {},
   "outputs": [
    {
     "data": {
      "text/plain": [
       "0.007"
      ]
     },
     "execution_count": 45,
     "metadata": {},
     "output_type": "execute_result"
    }
   ],
   "source": [
    "round(stats.mannwhitneyu(sampleAFiltered, sampleBFiltered)[1], 3)"
   ]
  },
  {
   "cell_type": "markdown",
   "metadata": {},
   "source": [
    "<i>Нулевая гипотеза не подтвердилась и на очищенных данных - всё так же среднее количество заказов значимо различается. Посмотрим на соотношение этой величины в группе А к группе В</i>"
   ]
  },
  {
   "cell_type": "code",
   "execution_count": 46,
   "metadata": {
    "scrolled": true
   },
   "outputs": [
    {
     "data": {
      "text/plain": [
       "0.189"
      ]
     },
     "execution_count": 46,
     "metadata": {},
     "output_type": "execute_result"
    }
   ],
   "source": [
    "round(sampleBFiltered.mean()/sampleAFiltered.mean()-1, 3)"
   ]
  },
  {
   "cell_type": "markdown",
   "metadata": {},
   "source": [
    "<div style=\"border:solid black 1px; padding: 10px\"><i>И на отфильтрованных данных мы также отвергаем нулевую гипотезу - среднее количество заказов между группами значимо различается, причём относительная разница между группами увеличилась до 17.8%</i></div>"
   ]
  },
  {
   "cell_type": "markdown",
   "metadata": {},
   "source": [
    "### Статистическая значимость различий в среднем чеке заказа между группами по очищенным данным"
   ]
  },
  {
   "cell_type": "markdown",
   "metadata": {},
   "source": [
    "<i>Проверим значимость различий в среднем чеке между группами по очищенным данным<br>\n",
    "    <u>Нулевая гипотеза:</u> значимых различий в среднем чеке между группами нет<br>\n",
    "    <u>Альтернативная гипотеза:</u> есть значимые различия в среднем чеке между группами\n",
    "</i>"
   ]
  },
  {
   "cell_type": "code",
   "execution_count": 47,
   "metadata": {},
   "outputs": [
    {
     "data": {
      "text/plain": [
       "0.788"
      ]
     },
     "execution_count": 47,
     "metadata": {},
     "output_type": "execute_result"
    }
   ],
   "source": [
    "round(\n",
    "    stats.mannwhitneyu(\n",
    "        orders[\n",
    "            np.logical_and(\n",
    "                orders['group'] == 'A',\n",
    "                np.logical_not(orders['visitor_id'].isin(abnormalUsers)),\n",
    "            )\n",
    "        ]['revenue'],\n",
    "        orders[\n",
    "            np.logical_and(\n",
    "                orders['group'] == 'B',\n",
    "                np.logical_not(orders['visitor_id'].isin(abnormalUsers)),\n",
    "            )\n",
    "        ]['revenue'],\n",
    "    )[1], 3\n",
    ")"
   ]
  },
  {
   "cell_type": "code",
   "execution_count": 48,
   "metadata": {},
   "outputs": [
    {
     "data": {
      "text/plain": [
       "-0.032"
      ]
     },
     "execution_count": 48,
     "metadata": {},
     "output_type": "execute_result"
    }
   ],
   "source": [
    "round(\n",
    "    orders[\n",
    "        np.logical_and(\n",
    "            orders['group'] == 'B',\n",
    "            np.logical_not(orders['visitor_id'].isin(abnormalUsers)),\n",
    "        )\n",
    "    ]['revenue'].mean()\n",
    "    / orders[\n",
    "        np.logical_and(\n",
    "            orders['group'] == 'A',\n",
    "            np.logical_not(orders['visitor_id'].isin(abnormalUsers)),\n",
    "            )\n",
    "    ]['revenue'].mean()\n",
    "    - 1, 3\n",
    ")"
   ]
  },
  {
   "cell_type": "markdown",
   "metadata": {},
   "source": [
    "<div style=\"border:solid black 1px; padding: 10px\"><i>На очищенных данных мы получаем корректные данные - средний чек заказа всё так же значимо не различается, при этом относительная разница между группами сильно сократилась - с 29 до 5 процентов. Это уже похоже на правду</i></div>"
   ]
  },
  {
   "cell_type": "markdown",
   "metadata": {},
   "source": [
    "<div style=\"font-size:2rem; font-weight:bold\">Вывод</div>\n",
    "<p></p>\n",
    "<div style=\"border:solid green 2px; padding: 20px\">\n",
    "    <i><b>Выручка складывается из двух составляющих: количества заказов и среднего чека. И хотя в ходе нашего исследования удалось значимо увеличить только один из этих параметров, (второй остался на том же уровне, увеличившись незначительно), эксперимент можно останавливать и признать его удавшимся, так как выручка в тестовой группе увеличилась за счёт увеличения количества заказов</b></i>\n",
    "</div>"
   ]
  }
 ],
 "metadata": {
  "ExecuteTimeLog": [
   {
    "duration": 374,
    "start_time": "2022-11-29T10:17:13.383Z"
   },
   {
    "duration": 78,
    "start_time": "2022-11-29T10:17:15.009Z"
   },
   {
    "duration": 53,
    "start_time": "2022-11-29T10:17:29.526Z"
   },
   {
    "duration": 101,
    "start_time": "2022-11-29T10:17:37.253Z"
   },
   {
    "duration": 31,
    "start_time": "2022-11-29T10:17:43.155Z"
   },
   {
    "duration": 38,
    "start_time": "2022-11-29T10:17:47.004Z"
   },
   {
    "duration": 33,
    "start_time": "2022-11-29T10:18:53.430Z"
   },
   {
    "duration": 28,
    "start_time": "2022-11-29T10:20:53.605Z"
   },
   {
    "duration": 30,
    "start_time": "2022-11-29T10:21:12.580Z"
   },
   {
    "duration": 34,
    "start_time": "2022-11-29T10:21:21.009Z"
   },
   {
    "duration": 5,
    "start_time": "2022-11-29T10:21:28.452Z"
   },
   {
    "duration": 108,
    "start_time": "2022-11-29T10:21:34.491Z"
   },
   {
    "duration": 5,
    "start_time": "2022-11-29T10:21:46.030Z"
   },
   {
    "duration": 4,
    "start_time": "2022-11-29T10:21:59.297Z"
   },
   {
    "duration": 32,
    "start_time": "2022-11-29T10:22:06.942Z"
   },
   {
    "duration": 8,
    "start_time": "2022-11-29T10:23:23.723Z"
   },
   {
    "duration": 14,
    "start_time": "2022-11-29T10:26:17.264Z"
   },
   {
    "duration": 12,
    "start_time": "2022-11-29T10:26:28.818Z"
   },
   {
    "duration": 9,
    "start_time": "2022-11-29T10:31:53.789Z"
   },
   {
    "duration": 12,
    "start_time": "2022-11-29T10:32:00.354Z"
   },
   {
    "duration": 10,
    "start_time": "2022-11-29T10:32:10.873Z"
   },
   {
    "duration": 25,
    "start_time": "2022-11-29T10:34:00.045Z"
   },
   {
    "duration": 12,
    "start_time": "2022-11-29T10:34:07.063Z"
   },
   {
    "duration": 99,
    "start_time": "2022-11-29T10:38:38.973Z"
   },
   {
    "duration": 58,
    "start_time": "2022-11-29T10:39:00.762Z"
   },
   {
    "duration": 60,
    "start_time": "2022-11-29T10:39:15.331Z"
   },
   {
    "duration": 55,
    "start_time": "2022-11-29T10:39:29.842Z"
   },
   {
    "duration": 371,
    "start_time": "2022-11-29T10:39:37.835Z"
   },
   {
    "duration": 538,
    "start_time": "2022-11-29T10:39:44.849Z"
   },
   {
    "duration": 72,
    "start_time": "2022-11-29T10:39:50.551Z"
   },
   {
    "duration": 77,
    "start_time": "2022-11-29T10:40:05.133Z"
   },
   {
    "duration": 11,
    "start_time": "2022-11-29T10:40:17.465Z"
   },
   {
    "duration": 484,
    "start_time": "2022-11-29T10:40:39.808Z"
   },
   {
    "duration": 411,
    "start_time": "2022-11-29T10:41:04.782Z"
   },
   {
    "duration": 59,
    "start_time": "2022-11-29T10:41:57.752Z"
   },
   {
    "duration": 12,
    "start_time": "2022-11-29T10:42:52.580Z"
   },
   {
    "duration": 60,
    "start_time": "2022-11-29T10:43:18.491Z"
   },
   {
    "duration": 78,
    "start_time": "2022-11-29T10:44:38.934Z"
   },
   {
    "duration": 1038,
    "start_time": "2022-11-29T11:08:30.545Z"
   },
   {
    "duration": 40,
    "start_time": "2022-11-29T11:08:31.586Z"
   },
   {
    "duration": 14,
    "start_time": "2022-11-29T11:08:31.629Z"
   },
   {
    "duration": 37,
    "start_time": "2022-11-29T11:08:31.645Z"
   },
   {
    "duration": 27,
    "start_time": "2022-11-29T11:08:31.686Z"
   },
   {
    "duration": 77,
    "start_time": "2022-11-29T11:08:31.715Z"
   },
   {
    "duration": 26,
    "start_time": "2022-11-29T11:08:31.794Z"
   },
   {
    "duration": 998,
    "start_time": "2022-11-29T11:13:09.117Z"
   },
   {
    "duration": 49,
    "start_time": "2022-11-29T11:13:10.117Z"
   },
   {
    "duration": 12,
    "start_time": "2022-11-29T11:13:10.168Z"
   },
   {
    "duration": 18,
    "start_time": "2022-11-29T11:13:10.181Z"
   },
   {
    "duration": 13,
    "start_time": "2022-11-29T11:13:10.201Z"
   },
   {
    "duration": 73,
    "start_time": "2022-11-29T11:13:10.216Z"
   },
   {
    "duration": 31,
    "start_time": "2022-11-29T11:13:10.291Z"
   },
   {
    "duration": 1095,
    "start_time": "2022-11-29T11:16:32.039Z"
   },
   {
    "duration": 43,
    "start_time": "2022-11-29T11:16:33.137Z"
   },
   {
    "duration": 10,
    "start_time": "2022-11-29T11:16:33.181Z"
   },
   {
    "duration": 19,
    "start_time": "2022-11-29T11:16:33.194Z"
   },
   {
    "duration": 18,
    "start_time": "2022-11-29T11:16:33.215Z"
   },
   {
    "duration": 75,
    "start_time": "2022-11-29T11:16:33.236Z"
   },
   {
    "duration": 33,
    "start_time": "2022-11-29T11:16:33.313Z"
   },
   {
    "duration": 44,
    "start_time": "2022-11-29T15:12:55.209Z"
   },
   {
    "duration": 845,
    "start_time": "2022-11-29T15:15:21.499Z"
   },
   {
    "duration": 70,
    "start_time": "2022-11-29T15:15:22.346Z"
   },
   {
    "duration": 10,
    "start_time": "2022-11-29T15:15:22.418Z"
   },
   {
    "duration": 22,
    "start_time": "2022-11-29T15:15:22.430Z"
   },
   {
    "duration": 10,
    "start_time": "2022-11-29T15:15:22.453Z"
   },
   {
    "duration": 93,
    "start_time": "2022-11-29T15:15:22.464Z"
   },
   {
    "duration": 5,
    "start_time": "2022-11-29T15:15:22.559Z"
   },
   {
    "duration": 21,
    "start_time": "2022-11-29T15:15:22.566Z"
   },
   {
    "duration": 66,
    "start_time": "2022-11-29T15:15:22.589Z"
   },
   {
    "duration": 10,
    "start_time": "2022-11-29T15:15:29.995Z"
   },
   {
    "duration": 378,
    "start_time": "2022-11-29T15:22:53.097Z"
   },
   {
    "duration": 273,
    "start_time": "2022-11-29T15:22:57.733Z"
   },
   {
    "duration": 275,
    "start_time": "2022-11-29T15:23:01.053Z"
   },
   {
    "duration": 158,
    "start_time": "2022-11-29T15:23:08.944Z"
   },
   {
    "duration": 239,
    "start_time": "2022-11-29T15:23:25.068Z"
   },
   {
    "duration": 144,
    "start_time": "2022-11-29T15:23:32.471Z"
   },
   {
    "duration": 158,
    "start_time": "2022-11-29T15:24:03.080Z"
   },
   {
    "duration": 165,
    "start_time": "2022-11-29T15:26:25.876Z"
   },
   {
    "duration": 154,
    "start_time": "2022-11-29T15:26:49.141Z"
   },
   {
    "duration": 283,
    "start_time": "2022-11-29T15:27:13.057Z"
   },
   {
    "duration": 332,
    "start_time": "2022-11-29T15:27:20.434Z"
   },
   {
    "duration": 257,
    "start_time": "2022-11-29T15:27:36.841Z"
   },
   {
    "duration": 258,
    "start_time": "2022-11-29T15:40:24.084Z"
   },
   {
    "duration": 6,
    "start_time": "2022-11-29T15:40:27.056Z"
   },
   {
    "duration": 6,
    "start_time": "2022-11-29T15:40:30.526Z"
   },
   {
    "duration": 164,
    "start_time": "2022-11-29T15:40:32.448Z"
   },
   {
    "duration": 150,
    "start_time": "2022-11-29T15:40:37.600Z"
   },
   {
    "duration": 251,
    "start_time": "2022-11-29T15:41:00.336Z"
   },
   {
    "duration": 130,
    "start_time": "2022-11-29T15:41:06.716Z"
   },
   {
    "duration": 157,
    "start_time": "2022-11-29T15:41:54.775Z"
   },
   {
    "duration": 9,
    "start_time": "2022-11-29T15:42:33.822Z"
   },
   {
    "duration": 10,
    "start_time": "2022-11-29T15:48:12.003Z"
   },
   {
    "duration": 9,
    "start_time": "2022-11-29T15:48:38.815Z"
   },
   {
    "duration": 10,
    "start_time": "2022-11-29T15:50:07.030Z"
   },
   {
    "duration": 11,
    "start_time": "2022-11-29T15:50:25.438Z"
   },
   {
    "duration": 4,
    "start_time": "2022-11-29T15:51:48.428Z"
   },
   {
    "duration": 166,
    "start_time": "2022-11-29T15:51:53.004Z"
   },
   {
    "duration": 173,
    "start_time": "2022-11-29T16:05:50.505Z"
   },
   {
    "duration": 161,
    "start_time": "2022-11-29T16:06:20.868Z"
   },
   {
    "duration": 1197,
    "start_time": "2022-11-30T11:59:50.509Z"
   },
   {
    "duration": 120,
    "start_time": "2022-11-30T11:59:51.710Z"
   },
   {
    "duration": 8,
    "start_time": "2022-11-30T11:59:51.832Z"
   },
   {
    "duration": 12,
    "start_time": "2022-11-30T11:59:51.842Z"
   },
   {
    "duration": 10,
    "start_time": "2022-11-30T11:59:51.856Z"
   },
   {
    "duration": 92,
    "start_time": "2022-11-30T11:59:51.868Z"
   },
   {
    "duration": 5,
    "start_time": "2022-11-30T11:59:51.962Z"
   },
   {
    "duration": 17,
    "start_time": "2022-11-30T11:59:51.969Z"
   },
   {
    "duration": 61,
    "start_time": "2022-11-30T11:59:51.988Z"
   },
   {
    "duration": 10,
    "start_time": "2022-11-30T11:59:52.051Z"
   },
   {
    "duration": 272,
    "start_time": "2022-11-30T11:59:52.062Z"
   },
   {
    "duration": 6,
    "start_time": "2022-11-30T11:59:52.335Z"
   },
   {
    "duration": 254,
    "start_time": "2022-11-30T11:59:52.343Z"
   },
   {
    "duration": 175,
    "start_time": "2022-11-30T11:59:52.599Z"
   },
   {
    "duration": 358,
    "start_time": "2022-11-30T11:59:52.776Z"
   },
   {
    "duration": 5,
    "start_time": "2022-11-30T12:00:07.534Z"
   },
   {
    "duration": 163,
    "start_time": "2022-11-30T12:00:08.257Z"
   },
   {
    "duration": 857,
    "start_time": "2022-11-30T12:03:12.935Z"
   },
   {
    "duration": 971,
    "start_time": "2022-11-30T12:03:36.282Z"
   },
   {
    "duration": 84,
    "start_time": "2022-11-30T12:03:37.255Z"
   },
   {
    "duration": 8,
    "start_time": "2022-11-30T12:03:37.340Z"
   },
   {
    "duration": 11,
    "start_time": "2022-11-30T12:03:37.350Z"
   },
   {
    "duration": 10,
    "start_time": "2022-11-30T12:03:37.363Z"
   },
   {
    "duration": 46,
    "start_time": "2022-11-30T12:03:37.375Z"
   },
   {
    "duration": 4,
    "start_time": "2022-11-30T12:03:37.423Z"
   },
   {
    "duration": 14,
    "start_time": "2022-11-30T12:03:37.429Z"
   },
   {
    "duration": 22,
    "start_time": "2022-11-30T12:03:37.444Z"
   },
   {
    "duration": 10,
    "start_time": "2022-11-30T12:03:37.468Z"
   },
   {
    "duration": 279,
    "start_time": "2022-11-30T12:03:37.480Z"
   },
   {
    "duration": 7,
    "start_time": "2022-11-30T12:03:37.761Z"
   },
   {
    "duration": 242,
    "start_time": "2022-11-30T12:03:37.770Z"
   },
   {
    "duration": 167,
    "start_time": "2022-11-30T12:03:38.014Z"
   },
   {
    "duration": 259,
    "start_time": "2022-11-30T12:03:38.183Z"
   },
   {
    "duration": 183,
    "start_time": "2022-11-30T12:03:38.444Z"
   },
   {
    "duration": 247,
    "start_time": "2022-11-30T12:03:43.182Z"
   },
   {
    "duration": 125,
    "start_time": "2022-11-30T12:09:57.642Z"
   },
   {
    "duration": 6,
    "start_time": "2022-11-30T12:11:01.761Z"
   },
   {
    "duration": 106,
    "start_time": "2022-11-30T12:11:48.692Z"
   },
   {
    "duration": 122,
    "start_time": "2022-11-30T12:11:54.966Z"
   },
   {
    "duration": 109,
    "start_time": "2022-11-30T12:12:05.267Z"
   },
   {
    "duration": 192,
    "start_time": "2022-11-30T12:12:22.706Z"
   },
   {
    "duration": 107,
    "start_time": "2022-11-30T12:12:27.009Z"
   },
   {
    "duration": 121,
    "start_time": "2022-11-30T12:12:31.629Z"
   },
   {
    "duration": 122,
    "start_time": "2022-11-30T12:12:53.243Z"
   },
   {
    "duration": 123,
    "start_time": "2022-11-30T12:13:01.373Z"
   },
   {
    "duration": 13,
    "start_time": "2022-11-30T12:17:07.464Z"
   },
   {
    "duration": 108,
    "start_time": "2022-11-30T12:17:43.888Z"
   },
   {
    "duration": 100,
    "start_time": "2022-11-30T12:17:59.757Z"
   },
   {
    "duration": 5,
    "start_time": "2022-11-30T12:18:32.223Z"
   },
   {
    "duration": 130,
    "start_time": "2022-11-30T12:47:36.150Z"
   },
   {
    "duration": 937,
    "start_time": "2022-11-30T12:47:39.216Z"
   },
   {
    "duration": 12,
    "start_time": "2022-11-30T12:56:37.086Z"
   },
   {
    "duration": 116,
    "start_time": "2022-11-30T12:56:39.590Z"
   },
   {
    "duration": 6,
    "start_time": "2022-11-30T12:56:42.758Z"
   },
   {
    "duration": 23,
    "start_time": "2022-11-30T12:56:46.806Z"
   },
   {
    "duration": 4,
    "start_time": "2022-11-30T12:57:06.408Z"
   },
   {
    "duration": 5,
    "start_time": "2022-11-30T12:57:19.758Z"
   },
   {
    "duration": 21,
    "start_time": "2022-11-30T12:57:34.899Z"
   },
   {
    "duration": 951,
    "start_time": "2022-11-30T14:00:40.059Z"
   },
   {
    "duration": 91,
    "start_time": "2022-11-30T14:00:41.011Z"
   },
   {
    "duration": 7,
    "start_time": "2022-11-30T14:00:41.104Z"
   },
   {
    "duration": 13,
    "start_time": "2022-11-30T14:00:41.113Z"
   },
   {
    "duration": 9,
    "start_time": "2022-11-30T14:00:41.128Z"
   },
   {
    "duration": 49,
    "start_time": "2022-11-30T14:00:41.138Z"
   },
   {
    "duration": 4,
    "start_time": "2022-11-30T14:00:41.188Z"
   },
   {
    "duration": 14,
    "start_time": "2022-11-30T14:00:41.193Z"
   },
   {
    "duration": 27,
    "start_time": "2022-11-30T14:00:41.209Z"
   },
   {
    "duration": 10,
    "start_time": "2022-11-30T14:00:41.238Z"
   },
   {
    "duration": 278,
    "start_time": "2022-11-30T14:00:41.249Z"
   },
   {
    "duration": 8,
    "start_time": "2022-11-30T14:00:41.529Z"
   },
   {
    "duration": 253,
    "start_time": "2022-11-30T14:00:41.539Z"
   },
   {
    "duration": 170,
    "start_time": "2022-11-30T14:00:41.794Z"
   },
   {
    "duration": 241,
    "start_time": "2022-11-30T14:00:41.966Z"
   },
   {
    "duration": 187,
    "start_time": "2022-11-30T14:00:42.209Z"
   },
   {
    "duration": 287,
    "start_time": "2022-11-30T14:00:42.398Z"
   },
   {
    "duration": 11,
    "start_time": "2022-11-30T14:00:42.687Z"
   },
   {
    "duration": 130,
    "start_time": "2022-11-30T14:00:42.700Z"
   },
   {
    "duration": 6,
    "start_time": "2022-11-30T14:00:42.832Z"
   },
   {
    "duration": 132,
    "start_time": "2022-11-30T14:00:42.839Z"
   },
   {
    "duration": 115,
    "start_time": "2022-11-30T14:00:42.973Z"
   },
   {
    "duration": 5,
    "start_time": "2022-11-30T14:00:43.089Z"
   },
   {
    "duration": 27,
    "start_time": "2022-11-30T14:00:43.095Z"
   },
   {
    "duration": 128,
    "start_time": "2022-11-30T14:00:43.124Z"
   },
   {
    "duration": 6,
    "start_time": "2022-11-30T14:00:43.254Z"
   },
   {
    "duration": 25,
    "start_time": "2022-11-30T14:00:43.262Z"
   },
   {
    "duration": 4,
    "start_time": "2022-11-30T14:00:43.290Z"
   },
   {
    "duration": 28,
    "start_time": "2022-11-30T14:00:43.296Z"
   },
   {
    "duration": 7,
    "start_time": "2022-11-30T14:00:43.326Z"
   },
   {
    "duration": 8,
    "start_time": "2022-11-30T14:00:43.334Z"
   },
   {
    "duration": 15,
    "start_time": "2022-11-30T14:00:43.344Z"
   },
   {
    "duration": 26,
    "start_time": "2022-11-30T14:00:43.361Z"
   },
   {
    "duration": 4,
    "start_time": "2022-11-30T14:00:43.388Z"
   },
   {
    "duration": 30,
    "start_time": "2022-11-30T14:00:43.394Z"
   },
   {
    "duration": 7,
    "start_time": "2022-11-30T14:00:43.425Z"
   },
   {
    "duration": 45,
    "start_time": "2022-12-01T09:41:06.552Z"
   },
   {
    "duration": 1172,
    "start_time": "2022-12-01T09:41:11.722Z"
   },
   {
    "duration": 149,
    "start_time": "2022-12-01T09:41:12.896Z"
   },
   {
    "duration": 7,
    "start_time": "2022-12-01T09:41:13.047Z"
   },
   {
    "duration": 12,
    "start_time": "2022-12-01T09:41:13.056Z"
   },
   {
    "duration": 10,
    "start_time": "2022-12-01T09:41:13.071Z"
   },
   {
    "duration": 92,
    "start_time": "2022-12-01T09:41:13.083Z"
   },
   {
    "duration": 5,
    "start_time": "2022-12-01T09:41:13.176Z"
   },
   {
    "duration": 15,
    "start_time": "2022-12-01T09:41:13.182Z"
   },
   {
    "duration": 78,
    "start_time": "2022-12-01T09:41:13.198Z"
   },
   {
    "duration": 11,
    "start_time": "2022-12-01T09:41:13.278Z"
   },
   {
    "duration": 269,
    "start_time": "2022-12-01T09:41:13.291Z"
   },
   {
    "duration": 8,
    "start_time": "2022-12-01T09:41:13.562Z"
   },
   {
    "duration": 263,
    "start_time": "2022-12-01T09:41:16.180Z"
   },
   {
    "duration": 184,
    "start_time": "2022-12-01T09:41:39.312Z"
   },
   {
    "duration": 309,
    "start_time": "2022-12-01T09:42:47.843Z"
   },
   {
    "duration": 243,
    "start_time": "2022-12-01T09:46:36.260Z"
   },
   {
    "duration": 186,
    "start_time": "2022-12-01T10:01:31.098Z"
   },
   {
    "duration": 1064,
    "start_time": "2022-12-01T10:17:27.080Z"
   },
   {
    "duration": 68,
    "start_time": "2022-12-01T10:17:28.146Z"
   },
   {
    "duration": 9,
    "start_time": "2022-12-01T10:17:28.216Z"
   },
   {
    "duration": 14,
    "start_time": "2022-12-01T10:17:28.226Z"
   },
   {
    "duration": 11,
    "start_time": "2022-12-01T10:17:28.242Z"
   },
   {
    "duration": 54,
    "start_time": "2022-12-01T10:17:28.254Z"
   },
   {
    "duration": 5,
    "start_time": "2022-12-01T10:17:28.310Z"
   },
   {
    "duration": 14,
    "start_time": "2022-12-01T10:17:28.316Z"
   },
   {
    "duration": 25,
    "start_time": "2022-12-01T10:17:28.332Z"
   },
   {
    "duration": 11,
    "start_time": "2022-12-01T10:17:28.358Z"
   },
   {
    "duration": 284,
    "start_time": "2022-12-01T10:17:28.371Z"
   },
   {
    "duration": 9,
    "start_time": "2022-12-01T10:17:28.657Z"
   },
   {
    "duration": 271,
    "start_time": "2022-12-01T10:17:28.667Z"
   },
   {
    "duration": 192,
    "start_time": "2022-12-01T10:17:28.941Z"
   },
   {
    "duration": 293,
    "start_time": "2022-12-01T10:17:29.135Z"
   },
   {
    "duration": 199,
    "start_time": "2022-12-01T10:17:29.429Z"
   },
   {
    "duration": 302,
    "start_time": "2022-12-01T10:17:29.629Z"
   },
   {
    "duration": 12,
    "start_time": "2022-12-01T10:17:29.933Z"
   },
   {
    "duration": 134,
    "start_time": "2022-12-01T10:17:29.947Z"
   },
   {
    "duration": 4,
    "start_time": "2022-12-01T10:17:30.083Z"
   },
   {
    "duration": 155,
    "start_time": "2022-12-01T10:17:30.089Z"
   },
   {
    "duration": 162,
    "start_time": "2022-12-01T10:17:30.246Z"
   },
   {
    "duration": 7,
    "start_time": "2022-12-01T10:17:30.414Z"
   },
   {
    "duration": 20,
    "start_time": "2022-12-01T10:17:30.423Z"
   },
   {
    "duration": 146,
    "start_time": "2022-12-01T10:17:30.445Z"
   },
   {
    "duration": 6,
    "start_time": "2022-12-01T10:17:30.593Z"
   },
   {
    "duration": 58,
    "start_time": "2022-12-01T10:17:30.601Z"
   },
   {
    "duration": 4,
    "start_time": "2022-12-01T10:17:30.661Z"
   },
   {
    "duration": 36,
    "start_time": "2022-12-01T10:17:30.667Z"
   },
   {
    "duration": 42,
    "start_time": "2022-12-01T10:17:30.705Z"
   },
   {
    "duration": 51,
    "start_time": "2022-12-01T10:17:30.749Z"
   },
   {
    "duration": 34,
    "start_time": "2022-12-01T10:17:30.802Z"
   },
   {
    "duration": 43,
    "start_time": "2022-12-01T10:17:30.838Z"
   },
   {
    "duration": 4,
    "start_time": "2022-12-01T10:17:30.883Z"
   },
   {
    "duration": 18,
    "start_time": "2022-12-01T10:17:30.888Z"
   },
   {
    "duration": 18,
    "start_time": "2022-12-01T10:17:30.907Z"
   },
   {
    "duration": 8,
    "start_time": "2022-12-01T10:18:53.122Z"
   },
   {
    "duration": 5,
    "start_time": "2022-12-01T10:25:07.761Z"
   },
   {
    "duration": 4,
    "start_time": "2022-12-01T10:26:02.591Z"
   },
   {
    "duration": 7,
    "start_time": "2022-12-01T10:26:06.927Z"
   },
   {
    "duration": 6,
    "start_time": "2022-12-01T10:26:23.598Z"
   },
   {
    "duration": 12,
    "start_time": "2022-12-01T10:30:26.020Z"
   },
   {
    "duration": 13,
    "start_time": "2022-12-01T10:30:40.675Z"
   },
   {
    "duration": 8,
    "start_time": "2022-12-01T10:31:07.096Z"
   },
   {
    "duration": 93,
    "start_time": "2022-12-01T10:31:33.860Z"
   },
   {
    "duration": 9,
    "start_time": "2022-12-01T10:31:42.283Z"
   },
   {
    "duration": 10,
    "start_time": "2022-12-01T10:32:48.435Z"
   },
   {
    "duration": 80,
    "start_time": "2022-12-01T10:33:59.388Z"
   },
   {
    "duration": 9,
    "start_time": "2022-12-01T10:34:01.496Z"
   },
   {
    "duration": 8,
    "start_time": "2022-12-01T10:35:31.636Z"
   },
   {
    "duration": 9,
    "start_time": "2022-12-01T10:35:40.626Z"
   },
   {
    "duration": 100,
    "start_time": "2022-12-01T10:35:50.829Z"
   },
   {
    "duration": 8,
    "start_time": "2022-12-01T10:35:52.660Z"
   },
   {
    "duration": 8,
    "start_time": "2022-12-01T10:42:58.154Z"
   },
   {
    "duration": 8,
    "start_time": "2022-12-01T10:43:12.727Z"
   },
   {
    "duration": 10,
    "start_time": "2022-12-01T10:43:16.903Z"
   },
   {
    "duration": 10,
    "start_time": "2022-12-01T10:45:58.610Z"
   },
   {
    "duration": 8,
    "start_time": "2022-12-01T10:45:59.270Z"
   },
   {
    "duration": 21,
    "start_time": "2022-12-01T10:46:00.908Z"
   },
   {
    "duration": 5,
    "start_time": "2022-12-01T10:46:01.967Z"
   },
   {
    "duration": 12,
    "start_time": "2022-12-01T10:46:17.014Z"
   },
   {
    "duration": 11,
    "start_time": "2022-12-01T10:46:18.922Z"
   },
   {
    "duration": 9,
    "start_time": "2022-12-01T10:46:31.148Z"
   },
   {
    "duration": 8,
    "start_time": "2022-12-01T10:46:33.355Z"
   },
   {
    "duration": 19,
    "start_time": "2022-12-01T10:46:33.792Z"
   },
   {
    "duration": 4,
    "start_time": "2022-12-01T10:46:34.473Z"
   },
   {
    "duration": 7,
    "start_time": "2022-12-01T10:46:53.841Z"
   },
   {
    "duration": 7,
    "start_time": "2022-12-01T10:46:54.425Z"
   },
   {
    "duration": 19,
    "start_time": "2022-12-01T10:46:56.000Z"
   },
   {
    "duration": 5,
    "start_time": "2022-12-01T10:46:56.692Z"
   },
   {
    "duration": 7,
    "start_time": "2022-12-01T10:47:21.567Z"
   },
   {
    "duration": 8,
    "start_time": "2022-12-01T10:47:23.597Z"
   },
   {
    "duration": 22,
    "start_time": "2022-12-01T10:47:24.065Z"
   },
   {
    "duration": 6,
    "start_time": "2022-12-01T10:47:24.675Z"
   },
   {
    "duration": 8,
    "start_time": "2022-12-01T10:48:11.802Z"
   },
   {
    "duration": 8,
    "start_time": "2022-12-01T10:48:12.250Z"
   },
   {
    "duration": 19,
    "start_time": "2022-12-01T10:48:14.366Z"
   },
   {
    "duration": 6,
    "start_time": "2022-12-01T10:48:14.977Z"
   },
   {
    "duration": 13,
    "start_time": "2022-12-01T10:48:20.251Z"
   },
   {
    "duration": 10,
    "start_time": "2022-12-01T10:48:22.145Z"
   },
   {
    "duration": 1062,
    "start_time": "2022-12-01T10:50:08.847Z"
   },
   {
    "duration": 89,
    "start_time": "2022-12-01T10:50:09.911Z"
   },
   {
    "duration": 9,
    "start_time": "2022-12-01T10:50:10.001Z"
   },
   {
    "duration": 13,
    "start_time": "2022-12-01T10:50:10.012Z"
   },
   {
    "duration": 10,
    "start_time": "2022-12-01T10:50:10.027Z"
   },
   {
    "duration": 48,
    "start_time": "2022-12-01T10:50:10.038Z"
   },
   {
    "duration": 5,
    "start_time": "2022-12-01T10:50:10.088Z"
   },
   {
    "duration": 16,
    "start_time": "2022-12-01T10:50:10.094Z"
   },
   {
    "duration": 26,
    "start_time": "2022-12-01T10:50:10.111Z"
   },
   {
    "duration": 11,
    "start_time": "2022-12-01T10:50:10.140Z"
   },
   {
    "duration": 343,
    "start_time": "2022-12-01T10:50:10.152Z"
   },
   {
    "duration": 9,
    "start_time": "2022-12-01T10:50:10.497Z"
   },
   {
    "duration": 251,
    "start_time": "2022-12-01T10:50:10.513Z"
   },
   {
    "duration": 205,
    "start_time": "2022-12-01T10:50:10.766Z"
   },
   {
    "duration": 289,
    "start_time": "2022-12-01T10:50:10.973Z"
   },
   {
    "duration": 198,
    "start_time": "2022-12-01T10:50:11.264Z"
   },
   {
    "duration": 277,
    "start_time": "2022-12-01T10:50:11.464Z"
   },
   {
    "duration": 11,
    "start_time": "2022-12-01T10:50:11.742Z"
   },
   {
    "duration": 118,
    "start_time": "2022-12-01T10:50:11.755Z"
   },
   {
    "duration": 4,
    "start_time": "2022-12-01T10:50:11.875Z"
   },
   {
    "duration": 136,
    "start_time": "2022-12-01T10:50:11.880Z"
   },
   {
    "duration": 128,
    "start_time": "2022-12-01T10:50:12.018Z"
   },
   {
    "duration": 6,
    "start_time": "2022-12-01T10:50:12.147Z"
   },
   {
    "duration": 13,
    "start_time": "2022-12-01T10:50:12.154Z"
   },
   {
    "duration": 11,
    "start_time": "2022-12-01T10:50:12.169Z"
   },
   {
    "duration": 6,
    "start_time": "2022-12-01T10:50:12.181Z"
   },
   {
    "duration": 22,
    "start_time": "2022-12-01T10:50:12.213Z"
   },
   {
    "duration": 5,
    "start_time": "2022-12-01T10:50:12.238Z"
   },
   {
    "duration": 11,
    "start_time": "2022-12-01T10:50:12.244Z"
   },
   {
    "duration": 7,
    "start_time": "2022-12-01T10:50:12.256Z"
   },
   {
    "duration": 8,
    "start_time": "2022-12-01T10:50:12.265Z"
   },
   {
    "duration": 9,
    "start_time": "2022-12-01T10:50:12.275Z"
   },
   {
    "duration": 22,
    "start_time": "2022-12-01T10:50:12.314Z"
   },
   {
    "duration": 5,
    "start_time": "2022-12-01T10:50:12.337Z"
   },
   {
    "duration": 11,
    "start_time": "2022-12-01T10:50:12.343Z"
   },
   {
    "duration": 11,
    "start_time": "2022-12-01T10:50:12.356Z"
   },
   {
    "duration": 7,
    "start_time": "2022-12-01T10:51:26.290Z"
   },
   {
    "duration": 8,
    "start_time": "2022-12-01T10:51:26.854Z"
   },
   {
    "duration": 20,
    "start_time": "2022-12-01T10:51:28.727Z"
   },
   {
    "duration": 5,
    "start_time": "2022-12-01T10:51:29.292Z"
   },
   {
    "duration": 8,
    "start_time": "2022-12-01T10:56:46.073Z"
   },
   {
    "duration": 9,
    "start_time": "2022-12-01T10:56:50.872Z"
   },
   {
    "duration": 21,
    "start_time": "2022-12-01T10:56:51.585Z"
   },
   {
    "duration": 5,
    "start_time": "2022-12-01T10:56:52.456Z"
   },
   {
    "duration": 11,
    "start_time": "2022-12-01T10:56:59.717Z"
   },
   {
    "duration": 9,
    "start_time": "2022-12-01T10:57:01.739Z"
   },
   {
    "duration": 6,
    "start_time": "2022-12-01T10:57:29.181Z"
   },
   {
    "duration": 9,
    "start_time": "2022-12-01T10:57:30.139Z"
   },
   {
    "duration": 19,
    "start_time": "2022-12-01T10:57:33.323Z"
   },
   {
    "duration": 5,
    "start_time": "2022-12-01T10:57:34.011Z"
   },
   {
    "duration": 274,
    "start_time": "2022-12-01T10:59:46.159Z"
   },
   {
    "duration": 263,
    "start_time": "2022-12-01T11:00:12.975Z"
   },
   {
    "duration": 23,
    "start_time": "2022-12-01T11:05:01.023Z"
   },
   {
    "duration": 4,
    "start_time": "2022-12-01T11:07:57.393Z"
   },
   {
    "duration": 10,
    "start_time": "2022-12-01T11:13:04.089Z"
   },
   {
    "duration": 8,
    "start_time": "2022-12-01T11:15:50.280Z"
   },
   {
    "duration": 7,
    "start_time": "2022-12-01T11:15:51.308Z"
   },
   {
    "duration": 21,
    "start_time": "2022-12-01T11:15:53.624Z"
   },
   {
    "duration": 5,
    "start_time": "2022-12-01T11:15:54.772Z"
   },
   {
    "duration": 11,
    "start_time": "2022-12-01T11:16:04.082Z"
   },
   {
    "duration": 9,
    "start_time": "2022-12-01T11:16:06.088Z"
   },
   {
    "duration": 7,
    "start_time": "2022-12-01T11:16:19.645Z"
   },
   {
    "duration": 8,
    "start_time": "2022-12-01T11:16:23.172Z"
   },
   {
    "duration": 22,
    "start_time": "2022-12-01T11:16:23.901Z"
   },
   {
    "duration": 5,
    "start_time": "2022-12-01T11:16:25.039Z"
   },
   {
    "duration": 11,
    "start_time": "2022-12-01T11:16:28.580Z"
   },
   {
    "duration": 8,
    "start_time": "2022-12-01T11:16:29.135Z"
   },
   {
    "duration": 1020,
    "start_time": "2022-12-01T11:39:43.251Z"
   },
   {
    "duration": 96,
    "start_time": "2022-12-01T11:39:44.273Z"
   },
   {
    "duration": 9,
    "start_time": "2022-12-01T11:39:44.371Z"
   },
   {
    "duration": 13,
    "start_time": "2022-12-01T11:39:44.382Z"
   },
   {
    "duration": 26,
    "start_time": "2022-12-01T11:39:44.397Z"
   },
   {
    "duration": 50,
    "start_time": "2022-12-01T11:39:44.424Z"
   },
   {
    "duration": 5,
    "start_time": "2022-12-01T11:39:44.476Z"
   },
   {
    "duration": 14,
    "start_time": "2022-12-01T11:39:44.483Z"
   },
   {
    "duration": 27,
    "start_time": "2022-12-01T11:39:44.500Z"
   },
   {
    "duration": 12,
    "start_time": "2022-12-01T11:39:44.529Z"
   },
   {
    "duration": 306,
    "start_time": "2022-12-01T11:39:44.543Z"
   },
   {
    "duration": 8,
    "start_time": "2022-12-01T11:39:44.851Z"
   },
   {
    "duration": 285,
    "start_time": "2022-12-01T11:39:44.861Z"
   },
   {
    "duration": 186,
    "start_time": "2022-12-01T11:39:45.148Z"
   },
   {
    "duration": 297,
    "start_time": "2022-12-01T11:39:45.336Z"
   },
   {
    "duration": 195,
    "start_time": "2022-12-01T11:39:45.635Z"
   },
   {
    "duration": 290,
    "start_time": "2022-12-01T11:39:45.832Z"
   },
   {
    "duration": 12,
    "start_time": "2022-12-01T11:39:46.124Z"
   },
   {
    "duration": 127,
    "start_time": "2022-12-01T11:39:46.138Z"
   },
   {
    "duration": 6,
    "start_time": "2022-12-01T11:39:46.267Z"
   },
   {
    "duration": 146,
    "start_time": "2022-12-01T11:39:46.274Z"
   },
   {
    "duration": 131,
    "start_time": "2022-12-01T11:39:46.422Z"
   },
   {
    "duration": 5,
    "start_time": "2022-12-01T11:39:46.555Z"
   },
   {
    "duration": 20,
    "start_time": "2022-12-01T11:39:46.562Z"
   },
   {
    "duration": 30,
    "start_time": "2022-12-01T11:39:46.583Z"
   },
   {
    "duration": 12,
    "start_time": "2022-12-01T11:39:46.615Z"
   },
   {
    "duration": 39,
    "start_time": "2022-12-01T11:39:46.628Z"
   },
   {
    "duration": 4,
    "start_time": "2022-12-01T11:39:46.670Z"
   },
   {
    "duration": 39,
    "start_time": "2022-12-01T11:39:46.676Z"
   },
   {
    "duration": 30,
    "start_time": "2022-12-01T11:39:46.717Z"
   },
   {
    "duration": 16,
    "start_time": "2022-12-01T11:39:46.749Z"
   },
   {
    "duration": 37,
    "start_time": "2022-12-01T11:39:46.766Z"
   },
   {
    "duration": 42,
    "start_time": "2022-12-01T11:39:46.805Z"
   },
   {
    "duration": 25,
    "start_time": "2022-12-01T11:39:46.849Z"
   },
   {
    "duration": 34,
    "start_time": "2022-12-01T11:39:46.876Z"
   },
   {
    "duration": 29,
    "start_time": "2022-12-01T11:39:46.912Z"
   },
   {
    "duration": 64,
    "start_time": "2022-12-01T14:04:15.173Z"
   },
   {
    "duration": 1215,
    "start_time": "2022-12-01T14:04:35.634Z"
   },
   {
    "duration": 177,
    "start_time": "2022-12-01T14:04:36.852Z"
   },
   {
    "duration": 9,
    "start_time": "2022-12-01T14:04:37.031Z"
   },
   {
    "duration": 75,
    "start_time": "2022-12-01T14:04:37.043Z"
   },
   {
    "duration": 33,
    "start_time": "2022-12-01T14:04:37.120Z"
   },
   {
    "duration": 141,
    "start_time": "2022-12-01T14:04:37.156Z"
   },
   {
    "duration": 8,
    "start_time": "2022-12-01T14:04:37.299Z"
   },
   {
    "duration": 96,
    "start_time": "2022-12-01T14:04:37.309Z"
   },
   {
    "duration": 123,
    "start_time": "2022-12-01T14:04:37.407Z"
   },
   {
    "duration": 15,
    "start_time": "2022-12-01T14:04:37.533Z"
   },
   {
    "duration": 369,
    "start_time": "2022-12-01T14:04:37.551Z"
   },
   {
    "duration": 10,
    "start_time": "2022-12-01T14:04:37.922Z"
   },
   {
    "duration": 333,
    "start_time": "2022-12-01T14:04:37.934Z"
   },
   {
    "duration": 259,
    "start_time": "2022-12-01T14:04:38.269Z"
   },
   {
    "duration": 359,
    "start_time": "2022-12-01T14:04:38.534Z"
   },
   {
    "duration": 9,
    "start_time": "2022-12-01T14:04:41.724Z"
   },
   {
    "duration": 1106,
    "start_time": "2022-12-01T14:06:00.992Z"
   },
   {
    "duration": 101,
    "start_time": "2022-12-01T14:06:02.100Z"
   },
   {
    "duration": 11,
    "start_time": "2022-12-01T14:06:02.203Z"
   },
   {
    "duration": 37,
    "start_time": "2022-12-01T14:06:02.215Z"
   },
   {
    "duration": 22,
    "start_time": "2022-12-01T14:06:02.254Z"
   },
   {
    "duration": 72,
    "start_time": "2022-12-01T14:06:02.277Z"
   },
   {
    "duration": 7,
    "start_time": "2022-12-01T14:06:02.351Z"
   },
   {
    "duration": 31,
    "start_time": "2022-12-01T14:06:02.360Z"
   },
   {
    "duration": 30,
    "start_time": "2022-12-01T14:06:02.393Z"
   },
   {
    "duration": 13,
    "start_time": "2022-12-01T14:06:02.424Z"
   },
   {
    "duration": 307,
    "start_time": "2022-12-01T14:06:02.439Z"
   },
   {
    "duration": 13,
    "start_time": "2022-12-01T14:06:02.748Z"
   },
   {
    "duration": 274,
    "start_time": "2022-12-01T14:06:02.763Z"
   },
   {
    "duration": 197,
    "start_time": "2022-12-01T14:06:03.040Z"
   },
   {
    "duration": 315,
    "start_time": "2022-12-01T14:06:03.238Z"
   },
   {
    "duration": 209,
    "start_time": "2022-12-01T14:06:03.554Z"
   },
   {
    "duration": 294,
    "start_time": "2022-12-01T14:06:03.765Z"
   },
   {
    "duration": 12,
    "start_time": "2022-12-01T14:06:04.061Z"
   },
   {
    "duration": 150,
    "start_time": "2022-12-01T14:06:04.074Z"
   },
   {
    "duration": 7,
    "start_time": "2022-12-01T14:06:04.226Z"
   },
   {
    "duration": 146,
    "start_time": "2022-12-01T14:06:04.234Z"
   },
   {
    "duration": 135,
    "start_time": "2022-12-01T14:06:04.382Z"
   },
   {
    "duration": 7,
    "start_time": "2022-12-01T14:06:04.519Z"
   },
   {
    "duration": 28,
    "start_time": "2022-12-01T14:06:04.527Z"
   },
   {
    "duration": 34,
    "start_time": "2022-12-01T14:06:04.557Z"
   },
   {
    "duration": 15,
    "start_time": "2022-12-01T14:06:04.593Z"
   },
   {
    "duration": 32,
    "start_time": "2022-12-01T14:06:04.610Z"
   },
   {
    "duration": 5,
    "start_time": "2022-12-01T14:06:04.644Z"
   },
   {
    "duration": 15,
    "start_time": "2022-12-01T14:06:04.651Z"
   },
   {
    "duration": 12,
    "start_time": "2022-12-01T14:06:04.668Z"
   },
   {
    "duration": 24,
    "start_time": "2022-12-01T14:06:04.681Z"
   },
   {
    "duration": 8,
    "start_time": "2022-12-01T14:06:04.706Z"
   },
   {
    "duration": 30,
    "start_time": "2022-12-01T14:06:04.716Z"
   },
   {
    "duration": 5,
    "start_time": "2022-12-01T14:06:04.748Z"
   },
   {
    "duration": 20,
    "start_time": "2022-12-01T14:06:04.755Z"
   },
   {
    "duration": 14,
    "start_time": "2022-12-01T14:06:04.776Z"
   },
   {
    "duration": 46,
    "start_time": "2022-12-01T14:58:27.775Z"
   },
   {
    "duration": 1085,
    "start_time": "2022-12-01T14:58:42.773Z"
   },
   {
    "duration": 103,
    "start_time": "2022-12-01T14:58:43.860Z"
   },
   {
    "duration": 8,
    "start_time": "2022-12-01T14:58:43.964Z"
   },
   {
    "duration": 13,
    "start_time": "2022-12-01T14:58:43.974Z"
   },
   {
    "duration": 12,
    "start_time": "2022-12-01T14:58:43.988Z"
   },
   {
    "duration": 104,
    "start_time": "2022-12-01T14:58:44.001Z"
   },
   {
    "duration": 4,
    "start_time": "2022-12-01T14:58:44.107Z"
   },
   {
    "duration": 13,
    "start_time": "2022-12-01T14:58:44.113Z"
   },
   {
    "duration": 71,
    "start_time": "2022-12-01T14:58:44.127Z"
   },
   {
    "duration": 10,
    "start_time": "2022-12-01T14:58:44.200Z"
   },
   {
    "duration": 270,
    "start_time": "2022-12-01T14:58:44.212Z"
   },
   {
    "duration": 8,
    "start_time": "2022-12-01T14:58:44.484Z"
   },
   {
    "duration": 265,
    "start_time": "2022-12-01T14:58:44.494Z"
   },
   {
    "duration": 187,
    "start_time": "2022-12-01T14:58:44.762Z"
   },
   {
    "duration": 345,
    "start_time": "2022-12-01T14:58:44.951Z"
   },
   {
    "duration": 200,
    "start_time": "2022-12-01T14:58:45.298Z"
   },
   {
    "duration": 307,
    "start_time": "2022-12-01T14:58:45.500Z"
   },
   {
    "duration": 16,
    "start_time": "2022-12-01T14:58:45.808Z"
   },
   {
    "duration": 126,
    "start_time": "2022-12-01T14:58:45.825Z"
   },
   {
    "duration": 5,
    "start_time": "2022-12-01T14:58:45.953Z"
   },
   {
    "duration": 141,
    "start_time": "2022-12-01T14:58:45.959Z"
   },
   {
    "duration": 122,
    "start_time": "2022-12-01T14:58:46.102Z"
   },
   {
    "duration": 5,
    "start_time": "2022-12-01T14:58:46.226Z"
   },
   {
    "duration": 15,
    "start_time": "2022-12-01T14:58:46.233Z"
   },
   {
    "duration": 21,
    "start_time": "2022-12-01T14:58:46.250Z"
   },
   {
    "duration": 9,
    "start_time": "2022-12-01T14:58:46.273Z"
   },
   {
    "duration": 45,
    "start_time": "2022-12-01T14:58:46.283Z"
   },
   {
    "duration": 7,
    "start_time": "2022-12-01T14:58:46.332Z"
   },
   {
    "duration": 36,
    "start_time": "2022-12-01T14:58:46.341Z"
   },
   {
    "duration": 12,
    "start_time": "2022-12-01T14:58:46.379Z"
   },
   {
    "duration": 11,
    "start_time": "2022-12-01T14:58:46.393Z"
   },
   {
    "duration": 16,
    "start_time": "2022-12-01T14:58:46.405Z"
   },
   {
    "duration": 31,
    "start_time": "2022-12-01T14:58:46.423Z"
   },
   {
    "duration": 5,
    "start_time": "2022-12-01T14:58:46.456Z"
   },
   {
    "duration": 17,
    "start_time": "2022-12-01T14:58:46.463Z"
   },
   {
    "duration": 10,
    "start_time": "2022-12-01T14:58:46.483Z"
   },
   {
    "duration": 5,
    "start_time": "2022-12-01T14:59:51.575Z"
   },
   {
    "duration": 11,
    "start_time": "2022-12-01T15:12:04.519Z"
   },
   {
    "duration": 1376,
    "start_time": "2022-12-02T10:08:01.022Z"
   },
   {
    "duration": 132,
    "start_time": "2022-12-02T10:08:02.400Z"
   },
   {
    "duration": 11,
    "start_time": "2022-12-02T10:08:02.537Z"
   },
   {
    "duration": 16,
    "start_time": "2022-12-02T10:08:02.550Z"
   },
   {
    "duration": 11,
    "start_time": "2022-12-02T10:08:02.568Z"
   },
   {
    "duration": 127,
    "start_time": "2022-12-02T10:08:08.022Z"
   },
   {
    "duration": 237,
    "start_time": "2022-12-02T10:08:29.838Z"
   },
   {
    "duration": 102,
    "start_time": "2022-12-02T10:09:21.485Z"
   },
   {
    "duration": 12,
    "start_time": "2022-12-02T10:09:34.000Z"
   },
   {
    "duration": 4,
    "start_time": "2022-12-02T10:11:55.409Z"
   },
   {
    "duration": 94,
    "start_time": "2022-12-02T10:12:19.340Z"
   },
   {
    "duration": 19,
    "start_time": "2022-12-02T10:12:42.918Z"
   },
   {
    "duration": 20,
    "start_time": "2022-12-02T10:12:48.818Z"
   },
   {
    "duration": 11,
    "start_time": "2022-12-02T10:13:30.023Z"
   },
   {
    "duration": 12,
    "start_time": "2022-12-02T10:14:42.396Z"
   },
   {
    "duration": 12,
    "start_time": "2022-12-02T10:14:58.320Z"
   },
   {
    "duration": 61,
    "start_time": "2022-12-02T10:59:35.728Z"
   },
   {
    "duration": 4,
    "start_time": "2022-12-02T11:00:05.152Z"
   },
   {
    "duration": 67,
    "start_time": "2022-12-02T11:00:05.158Z"
   },
   {
    "duration": 12,
    "start_time": "2022-12-02T11:00:05.227Z"
   },
   {
    "duration": 26,
    "start_time": "2022-12-02T11:00:05.242Z"
   },
   {
    "duration": 51,
    "start_time": "2022-12-02T11:00:05.270Z"
   },
   {
    "duration": 206,
    "start_time": "2022-12-02T11:00:05.322Z"
   },
   {
    "duration": 56,
    "start_time": "2022-12-02T11:00:05.530Z"
   },
   {
    "duration": 3,
    "start_time": "2022-12-02T11:00:05.588Z"
   },
   {
    "duration": 25,
    "start_time": "2022-12-02T11:00:05.593Z"
   },
   {
    "duration": 25,
    "start_time": "2022-12-02T11:00:05.619Z"
   },
   {
    "duration": 35,
    "start_time": "2022-12-02T11:00:05.648Z"
   },
   {
    "duration": 54,
    "start_time": "2022-12-02T11:00:05.684Z"
   },
   {
    "duration": 39,
    "start_time": "2022-12-02T11:00:05.741Z"
   },
   {
    "duration": 345,
    "start_time": "2022-12-02T11:00:05.783Z"
   },
   {
    "duration": 9,
    "start_time": "2022-12-02T11:00:06.130Z"
   },
   {
    "duration": 314,
    "start_time": "2022-12-02T11:00:11.208Z"
   },
   {
    "duration": 202,
    "start_time": "2022-12-02T11:00:21.963Z"
   },
   {
    "duration": 213,
    "start_time": "2022-12-02T11:01:01.709Z"
   },
   {
    "duration": 183,
    "start_time": "2022-12-02T11:01:46.398Z"
   },
   {
    "duration": 122,
    "start_time": "2022-12-02T11:02:27.841Z"
   },
   {
    "duration": 11,
    "start_time": "2022-12-02T11:02:55.042Z"
   },
   {
    "duration": 115,
    "start_time": "2022-12-02T11:03:01.084Z"
   },
   {
    "duration": 209,
    "start_time": "2022-12-02T11:03:11.744Z"
   },
   {
    "duration": 218,
    "start_time": "2022-12-02T11:03:52.033Z"
   },
   {
    "duration": 148,
    "start_time": "2022-12-02T11:04:06.018Z"
   },
   {
    "duration": 217,
    "start_time": "2022-12-02T11:06:06.859Z"
   },
   {
    "duration": 5,
    "start_time": "2022-12-02T11:19:27.671Z"
   },
   {
    "duration": 5,
    "start_time": "2022-12-02T11:19:34.856Z"
   },
   {
    "duration": 4,
    "start_time": "2022-12-02T11:19:42.385Z"
   },
   {
    "duration": 6,
    "start_time": "2022-12-02T11:19:51.102Z"
   },
   {
    "duration": 15,
    "start_time": "2022-12-02T11:20:48.021Z"
   },
   {
    "duration": 4,
    "start_time": "2022-12-02T11:21:00.098Z"
   },
   {
    "duration": 15,
    "start_time": "2022-12-02T11:21:17.119Z"
   },
   {
    "duration": 9,
    "start_time": "2022-12-02T11:21:23.288Z"
   },
   {
    "duration": 3,
    "start_time": "2022-12-02T11:22:31.305Z"
   },
   {
    "duration": 20,
    "start_time": "2022-12-02T11:23:11.636Z"
   },
   {
    "duration": 7,
    "start_time": "2022-12-02T11:23:38.683Z"
   },
   {
    "duration": 13,
    "start_time": "2022-12-02T11:23:48.762Z"
   },
   {
    "duration": 16,
    "start_time": "2022-12-02T11:24:51.517Z"
   },
   {
    "duration": 6,
    "start_time": "2022-12-02T11:25:15.392Z"
   },
   {
    "duration": 23,
    "start_time": "2022-12-02T11:25:20.111Z"
   },
   {
    "duration": 20,
    "start_time": "2022-12-02T11:25:33.756Z"
   },
   {
    "duration": 4,
    "start_time": "2022-12-02T11:26:11.751Z"
   },
   {
    "duration": 15,
    "start_time": "2022-12-02T11:27:09.350Z"
   },
   {
    "duration": 195,
    "start_time": "2022-12-02T11:27:53.398Z"
   },
   {
    "duration": 15,
    "start_time": "2022-12-02T11:29:33.038Z"
   },
   {
    "duration": 19,
    "start_time": "2022-12-02T11:30:12.427Z"
   },
   {
    "duration": 18,
    "start_time": "2022-12-02T11:30:38.020Z"
   },
   {
    "duration": 15,
    "start_time": "2022-12-02T11:30:48.336Z"
   },
   {
    "duration": 15,
    "start_time": "2022-12-02T11:30:54.657Z"
   },
   {
    "duration": 25,
    "start_time": "2022-12-02T11:30:59.415Z"
   },
   {
    "duration": 19,
    "start_time": "2022-12-02T11:31:10.849Z"
   },
   {
    "duration": 16,
    "start_time": "2022-12-02T11:31:21.849Z"
   },
   {
    "duration": 13,
    "start_time": "2022-12-02T11:31:34.637Z"
   },
   {
    "duration": 13,
    "start_time": "2022-12-02T11:34:00.369Z"
   },
   {
    "duration": 15,
    "start_time": "2022-12-02T11:34:16.267Z"
   },
   {
    "duration": 15,
    "start_time": "2022-12-02T11:35:07.479Z"
   },
   {
    "duration": 191,
    "start_time": "2022-12-02T11:39:37.569Z"
   },
   {
    "duration": 13,
    "start_time": "2022-12-02T11:41:14.976Z"
   },
   {
    "duration": 10,
    "start_time": "2022-12-02T11:50:56.232Z"
   },
   {
    "duration": 10,
    "start_time": "2022-12-02T11:51:05.752Z"
   },
   {
    "duration": 13,
    "start_time": "2022-12-02T11:51:14.189Z"
   },
   {
    "duration": 4,
    "start_time": "2022-12-02T11:51:35.567Z"
   },
   {
    "duration": 5,
    "start_time": "2022-12-02T11:51:57.800Z"
   },
   {
    "duration": 7,
    "start_time": "2022-12-02T11:52:04.572Z"
   },
   {
    "duration": 8,
    "start_time": "2022-12-02T11:52:21.286Z"
   },
   {
    "duration": 8,
    "start_time": "2022-12-02T11:53:00.574Z"
   },
   {
    "duration": 6,
    "start_time": "2022-12-02T11:53:51.370Z"
   },
   {
    "duration": 6,
    "start_time": "2022-12-02T11:55:01.388Z"
   },
   {
    "duration": 11,
    "start_time": "2022-12-02T11:55:16.065Z"
   },
   {
    "duration": 7,
    "start_time": "2022-12-02T11:55:24.785Z"
   },
   {
    "duration": 6,
    "start_time": "2022-12-02T11:56:17.043Z"
   },
   {
    "duration": 5,
    "start_time": "2022-12-02T11:56:31.688Z"
   },
   {
    "duration": 5,
    "start_time": "2022-12-02T12:02:32.410Z"
   },
   {
    "duration": 7,
    "start_time": "2022-12-02T12:02:40.956Z"
   },
   {
    "duration": 7,
    "start_time": "2022-12-02T12:03:08.936Z"
   },
   {
    "duration": 6,
    "start_time": "2022-12-02T12:03:38.301Z"
   },
   {
    "duration": 12,
    "start_time": "2022-12-02T12:03:48.443Z"
   },
   {
    "duration": 6,
    "start_time": "2022-12-02T12:03:55.172Z"
   },
   {
    "duration": 6,
    "start_time": "2022-12-02T12:04:00.154Z"
   },
   {
    "duration": 5,
    "start_time": "2022-12-02T12:05:42.370Z"
   },
   {
    "duration": 6,
    "start_time": "2022-12-02T12:05:55.099Z"
   },
   {
    "duration": 11,
    "start_time": "2022-12-02T12:06:38.900Z"
   },
   {
    "duration": 7,
    "start_time": "2022-12-02T12:06:53.272Z"
   },
   {
    "duration": 5,
    "start_time": "2022-12-02T12:06:59.630Z"
   },
   {
    "duration": 13,
    "start_time": "2022-12-02T12:08:53.527Z"
   },
   {
    "duration": 4,
    "start_time": "2022-12-02T12:09:06.922Z"
   },
   {
    "duration": 7,
    "start_time": "2022-12-02T12:09:59.631Z"
   },
   {
    "duration": 8,
    "start_time": "2022-12-02T12:10:11.782Z"
   },
   {
    "duration": 76,
    "start_time": "2022-12-02T12:10:22.044Z"
   },
   {
    "duration": 7,
    "start_time": "2022-12-02T12:10:29.441Z"
   },
   {
    "duration": 11,
    "start_time": "2022-12-02T12:10:40.270Z"
   },
   {
    "duration": 8,
    "start_time": "2022-12-02T12:10:45.185Z"
   },
   {
    "duration": 6,
    "start_time": "2022-12-02T12:11:04.572Z"
   },
   {
    "duration": 7,
    "start_time": "2022-12-02T12:11:31.582Z"
   },
   {
    "duration": 6,
    "start_time": "2022-12-02T12:11:36.338Z"
   },
   {
    "duration": 4,
    "start_time": "2022-12-02T12:11:58.374Z"
   },
   {
    "duration": 10,
    "start_time": "2022-12-02T12:12:10.486Z"
   },
   {
    "duration": 1155,
    "start_time": "2022-12-02T12:12:21.850Z"
   },
   {
    "duration": 6,
    "start_time": "2022-12-02T12:13:10.590Z"
   },
   {
    "duration": 5,
    "start_time": "2022-12-02T12:13:20.608Z"
   },
   {
    "duration": 12,
    "start_time": "2022-12-02T12:27:00.467Z"
   },
   {
    "duration": 10,
    "start_time": "2022-12-02T12:27:41.678Z"
   },
   {
    "duration": 13,
    "start_time": "2022-12-02T12:27:53.314Z"
   },
   {
    "duration": 16,
    "start_time": "2022-12-02T12:28:01.072Z"
   },
   {
    "duration": 51,
    "start_time": "2022-12-06T07:55:36.794Z"
   },
   {
    "duration": 19,
    "start_time": "2022-12-06T07:59:33.993Z"
   },
   {
    "duration": 1230,
    "start_time": "2022-12-06T08:01:53.593Z"
   },
   {
    "duration": 144,
    "start_time": "2022-12-06T08:01:54.825Z"
   },
   {
    "duration": 9,
    "start_time": "2022-12-06T08:01:54.970Z"
   },
   {
    "duration": 12,
    "start_time": "2022-12-06T08:01:54.981Z"
   },
   {
    "duration": 14,
    "start_time": "2022-12-06T08:01:54.999Z"
   },
   {
    "duration": 233,
    "start_time": "2022-12-06T08:01:55.015Z"
   },
   {
    "duration": 15,
    "start_time": "2022-12-06T08:01:55.250Z"
   },
   {
    "duration": 108,
    "start_time": "2022-12-06T08:01:55.267Z"
   },
   {
    "duration": 3,
    "start_time": "2022-12-06T08:01:55.377Z"
   },
   {
    "duration": 11,
    "start_time": "2022-12-06T08:01:55.384Z"
   },
   {
    "duration": 13,
    "start_time": "2022-12-06T08:01:55.404Z"
   },
   {
    "duration": 74,
    "start_time": "2022-12-06T08:01:55.418Z"
   },
   {
    "duration": 15,
    "start_time": "2022-12-06T08:01:55.493Z"
   },
   {
    "duration": 16,
    "start_time": "2022-12-06T08:01:55.509Z"
   },
   {
    "duration": 12,
    "start_time": "2022-12-06T08:01:55.526Z"
   },
   {
    "duration": 7,
    "start_time": "2022-12-06T08:01:55.540Z"
   },
   {
    "duration": 8,
    "start_time": "2022-12-06T08:01:55.549Z"
   },
   {
    "duration": 7,
    "start_time": "2022-12-06T08:01:55.559Z"
   },
   {
    "duration": 296,
    "start_time": "2022-12-06T08:01:55.567Z"
   },
   {
    "duration": 10,
    "start_time": "2022-12-06T08:01:55.865Z"
   },
   {
    "duration": 307,
    "start_time": "2022-12-06T08:01:55.876Z"
   },
   {
    "duration": 264,
    "start_time": "2022-12-06T08:01:56.185Z"
   },
   {
    "duration": 365,
    "start_time": "2022-12-06T08:01:56.451Z"
   },
   {
    "duration": 214,
    "start_time": "2022-12-06T08:01:56.818Z"
   },
   {
    "duration": 309,
    "start_time": "2022-12-06T08:01:57.033Z"
   },
   {
    "duration": 12,
    "start_time": "2022-12-06T08:01:57.344Z"
   },
   {
    "duration": 165,
    "start_time": "2022-12-06T08:01:57.357Z"
   },
   {
    "duration": 4,
    "start_time": "2022-12-06T08:02:03.872Z"
   },
   {
    "duration": 7,
    "start_time": "2022-12-06T08:02:15.527Z"
   },
   {
    "duration": 7,
    "start_time": "2022-12-06T08:02:49.186Z"
   },
   {
    "duration": 4,
    "start_time": "2022-12-06T08:09:50.746Z"
   },
   {
    "duration": 4,
    "start_time": "2022-12-06T08:10:49.652Z"
   },
   {
    "duration": 8,
    "start_time": "2022-12-06T08:12:35.172Z"
   },
   {
    "duration": 6,
    "start_time": "2022-12-06T09:43:27.140Z"
   },
   {
    "duration": 663,
    "start_time": "2022-12-06T09:43:50.525Z"
   },
   {
    "duration": 11,
    "start_time": "2022-12-06T09:44:00.406Z"
   },
   {
    "duration": 6,
    "start_time": "2022-12-06T09:44:16.721Z"
   },
   {
    "duration": 5,
    "start_time": "2022-12-06T09:44:31.663Z"
   },
   {
    "duration": 5,
    "start_time": "2022-12-06T09:45:48.608Z"
   },
   {
    "duration": 4,
    "start_time": "2022-12-06T09:47:08.612Z"
   },
   {
    "duration": 11,
    "start_time": "2022-12-06T09:47:22.248Z"
   },
   {
    "duration": 5,
    "start_time": "2022-12-06T09:47:35.364Z"
   },
   {
    "duration": 12,
    "start_time": "2022-12-06T09:47:36.633Z"
   },
   {
    "duration": 1013,
    "start_time": "2022-12-06T11:15:00.729Z"
   },
   {
    "duration": 100,
    "start_time": "2022-12-06T11:15:01.744Z"
   },
   {
    "duration": 8,
    "start_time": "2022-12-06T11:15:01.846Z"
   },
   {
    "duration": 48,
    "start_time": "2022-12-06T11:15:01.856Z"
   },
   {
    "duration": 42,
    "start_time": "2022-12-06T11:15:01.905Z"
   },
   {
    "duration": 213,
    "start_time": "2022-12-06T11:15:01.948Z"
   },
   {
    "duration": 14,
    "start_time": "2022-12-06T11:15:02.163Z"
   },
   {
    "duration": 60,
    "start_time": "2022-12-06T11:15:02.178Z"
   },
   {
    "duration": 3,
    "start_time": "2022-12-06T11:15:02.240Z"
   },
   {
    "duration": 17,
    "start_time": "2022-12-06T11:15:02.245Z"
   },
   {
    "duration": 34,
    "start_time": "2022-12-06T11:15:02.264Z"
   },
   {
    "duration": 37,
    "start_time": "2022-12-06T11:15:02.299Z"
   },
   {
    "duration": 10,
    "start_time": "2022-12-06T11:15:02.338Z"
   },
   {
    "duration": 30,
    "start_time": "2022-12-06T11:15:02.350Z"
   },
   {
    "duration": 19,
    "start_time": "2022-12-06T11:15:02.382Z"
   },
   {
    "duration": 7,
    "start_time": "2022-12-06T11:15:02.403Z"
   },
   {
    "duration": 13,
    "start_time": "2022-12-06T11:15:02.412Z"
   },
   {
    "duration": 5,
    "start_time": "2022-12-06T11:15:02.427Z"
   },
   {
    "duration": 7,
    "start_time": "2022-12-06T11:15:02.433Z"
   },
   {
    "duration": 40,
    "start_time": "2022-12-06T11:15:02.442Z"
   },
   {
    "duration": 1046,
    "start_time": "2022-12-06T11:21:44.184Z"
   },
   {
    "duration": 90,
    "start_time": "2022-12-06T11:21:45.232Z"
   },
   {
    "duration": 9,
    "start_time": "2022-12-06T11:21:45.324Z"
   },
   {
    "duration": 14,
    "start_time": "2022-12-06T11:21:45.336Z"
   },
   {
    "duration": 11,
    "start_time": "2022-12-06T11:21:45.352Z"
   },
   {
    "duration": 219,
    "start_time": "2022-12-06T11:21:45.364Z"
   },
   {
    "duration": 23,
    "start_time": "2022-12-06T11:21:45.585Z"
   },
   {
    "duration": 49,
    "start_time": "2022-12-06T11:21:45.610Z"
   },
   {
    "duration": 4,
    "start_time": "2022-12-06T11:21:45.661Z"
   },
   {
    "duration": 18,
    "start_time": "2022-12-06T11:21:45.668Z"
   },
   {
    "duration": 11,
    "start_time": "2022-12-06T11:21:45.687Z"
   },
   {
    "duration": 27,
    "start_time": "2022-12-06T11:21:45.700Z"
   },
   {
    "duration": 10,
    "start_time": "2022-12-06T11:21:45.729Z"
   },
   {
    "duration": 10,
    "start_time": "2022-12-06T11:21:45.741Z"
   },
   {
    "duration": 17,
    "start_time": "2022-12-06T11:21:45.752Z"
   },
   {
    "duration": 11,
    "start_time": "2022-12-06T11:21:45.771Z"
   },
   {
    "duration": 11,
    "start_time": "2022-12-06T11:21:45.784Z"
   },
   {
    "duration": 6,
    "start_time": "2022-12-06T11:21:45.797Z"
   },
   {
    "duration": 20,
    "start_time": "2022-12-06T11:21:45.805Z"
   },
   {
    "duration": 16,
    "start_time": "2022-12-06T11:21:45.826Z"
   },
   {
    "duration": 286,
    "start_time": "2022-12-06T11:21:45.844Z"
   },
   {
    "duration": 4,
    "start_time": "2022-12-06T11:21:46.132Z"
   },
   {
    "duration": 24,
    "start_time": "2022-12-06T11:21:46.138Z"
   },
   {
    "duration": 335,
    "start_time": "2022-12-06T11:21:46.164Z"
   },
   {
    "duration": 224,
    "start_time": "2022-12-06T11:21:46.501Z"
   },
   {
    "duration": 283,
    "start_time": "2022-12-06T11:21:46.726Z"
   },
   {
    "duration": 212,
    "start_time": "2022-12-06T11:21:47.011Z"
   },
   {
    "duration": 292,
    "start_time": "2022-12-06T11:21:47.226Z"
   },
   {
    "duration": 11,
    "start_time": "2022-12-06T11:21:47.520Z"
   },
   {
    "duration": 172,
    "start_time": "2022-12-06T11:21:47.533Z"
   },
   {
    "duration": 6,
    "start_time": "2022-12-06T11:21:47.706Z"
   },
   {
    "duration": 156,
    "start_time": "2022-12-06T11:21:47.713Z"
   },
   {
    "duration": 222,
    "start_time": "2022-12-06T11:21:47.871Z"
   },
   {
    "duration": 5,
    "start_time": "2022-12-06T11:21:48.097Z"
   },
   {
    "duration": 12,
    "start_time": "2022-12-06T11:21:48.105Z"
   },
   {
    "duration": 13,
    "start_time": "2022-12-06T11:21:48.118Z"
   },
   {
    "duration": 13,
    "start_time": "2022-12-06T11:21:48.133Z"
   },
   {
    "duration": 49,
    "start_time": "2022-12-06T11:21:48.148Z"
   },
   {
    "duration": 5,
    "start_time": "2022-12-06T11:21:48.198Z"
   },
   {
    "duration": 10,
    "start_time": "2022-12-06T11:21:48.205Z"
   },
   {
    "duration": 6,
    "start_time": "2022-12-06T11:21:48.217Z"
   },
   {
    "duration": 8,
    "start_time": "2022-12-06T11:21:48.225Z"
   },
   {
    "duration": 10,
    "start_time": "2022-12-06T11:21:48.234Z"
   },
   {
    "duration": 23,
    "start_time": "2022-12-06T11:21:48.246Z"
   },
   {
    "duration": 30,
    "start_time": "2022-12-06T11:21:48.270Z"
   },
   {
    "duration": 13,
    "start_time": "2022-12-06T11:21:48.301Z"
   },
   {
    "duration": 9,
    "start_time": "2022-12-06T11:21:48.316Z"
   },
   {
    "duration": 7,
    "start_time": "2022-12-06T11:25:08.586Z"
   },
   {
    "duration": 10,
    "start_time": "2022-12-06T11:35:36.768Z"
   },
   {
    "duration": 1225,
    "start_time": "2022-12-06T11:46:49.609Z"
   },
   {
    "duration": 9,
    "start_time": "2022-12-06T11:47:24.589Z"
   },
   {
    "duration": 205,
    "start_time": "2022-12-06T11:47:31.870Z"
   },
   {
    "duration": 210,
    "start_time": "2022-12-06T11:47:48.379Z"
   },
   {
    "duration": 211,
    "start_time": "2022-12-06T11:49:31.597Z"
   },
   {
    "duration": 223,
    "start_time": "2022-12-06T11:49:41.129Z"
   },
   {
    "duration": 213,
    "start_time": "2022-12-06T11:49:48.686Z"
   },
   {
    "duration": 222,
    "start_time": "2022-12-06T11:50:10.913Z"
   },
   {
    "duration": 1146,
    "start_time": "2022-12-06T11:58:45.365Z"
   },
   {
    "duration": 95,
    "start_time": "2022-12-06T11:58:46.514Z"
   },
   {
    "duration": 9,
    "start_time": "2022-12-06T11:58:46.611Z"
   },
   {
    "duration": 13,
    "start_time": "2022-12-06T11:58:46.622Z"
   },
   {
    "duration": 11,
    "start_time": "2022-12-06T11:58:46.637Z"
   },
   {
    "duration": 269,
    "start_time": "2022-12-06T11:58:46.650Z"
   },
   {
    "duration": 17,
    "start_time": "2022-12-06T11:58:46.921Z"
   },
   {
    "duration": 52,
    "start_time": "2022-12-06T11:58:46.940Z"
   },
   {
    "duration": 5,
    "start_time": "2022-12-06T11:58:46.993Z"
   },
   {
    "duration": 28,
    "start_time": "2022-12-06T11:58:47.002Z"
   },
   {
    "duration": 8,
    "start_time": "2022-12-06T11:58:47.032Z"
   },
   {
    "duration": 26,
    "start_time": "2022-12-06T11:58:47.041Z"
   },
   {
    "duration": 11,
    "start_time": "2022-12-06T11:58:47.069Z"
   },
   {
    "duration": 11,
    "start_time": "2022-12-06T11:58:47.081Z"
   },
   {
    "duration": 35,
    "start_time": "2022-12-06T11:58:47.094Z"
   },
   {
    "duration": 10,
    "start_time": "2022-12-06T11:58:47.131Z"
   },
   {
    "duration": 18,
    "start_time": "2022-12-06T11:58:47.143Z"
   },
   {
    "duration": 6,
    "start_time": "2022-12-06T11:58:47.163Z"
   },
   {
    "duration": 7,
    "start_time": "2022-12-06T11:58:47.171Z"
   },
   {
    "duration": 17,
    "start_time": "2022-12-06T11:58:47.179Z"
   },
   {
    "duration": 315,
    "start_time": "2022-12-06T11:58:47.201Z"
   },
   {
    "duration": 4,
    "start_time": "2022-12-06T11:58:47.518Z"
   },
   {
    "duration": 11,
    "start_time": "2022-12-06T11:58:47.524Z"
   },
   {
    "duration": 309,
    "start_time": "2022-12-06T11:58:47.537Z"
   },
   {
    "duration": 248,
    "start_time": "2022-12-06T11:58:47.848Z"
   },
   {
    "duration": 323,
    "start_time": "2022-12-06T11:58:48.098Z"
   },
   {
    "duration": 240,
    "start_time": "2022-12-06T11:58:48.423Z"
   },
   {
    "duration": 237,
    "start_time": "2022-12-06T11:58:48.666Z"
   },
   {
    "duration": 326,
    "start_time": "2022-12-06T11:58:48.905Z"
   },
   {
    "duration": 14,
    "start_time": "2022-12-06T11:58:49.233Z"
   },
   {
    "duration": 192,
    "start_time": "2022-12-06T11:58:49.248Z"
   },
   {
    "duration": 6,
    "start_time": "2022-12-06T11:58:49.442Z"
   },
   {
    "duration": 242,
    "start_time": "2022-12-06T11:58:49.450Z"
   },
   {
    "duration": 150,
    "start_time": "2022-12-06T11:58:49.696Z"
   },
   {
    "duration": 7,
    "start_time": "2022-12-06T11:58:49.848Z"
   },
   {
    "duration": 22,
    "start_time": "2022-12-06T11:58:49.856Z"
   },
   {
    "duration": 22,
    "start_time": "2022-12-06T11:58:49.879Z"
   },
   {
    "duration": 8,
    "start_time": "2022-12-06T11:58:49.903Z"
   },
   {
    "duration": 35,
    "start_time": "2022-12-06T11:58:49.912Z"
   },
   {
    "duration": 4,
    "start_time": "2022-12-06T11:58:49.949Z"
   },
   {
    "duration": 13,
    "start_time": "2022-12-06T11:58:49.955Z"
   },
   {
    "duration": 6,
    "start_time": "2022-12-06T11:58:49.970Z"
   },
   {
    "duration": 32,
    "start_time": "2022-12-06T11:58:49.978Z"
   },
   {
    "duration": 23,
    "start_time": "2022-12-06T11:58:50.013Z"
   },
   {
    "duration": 36,
    "start_time": "2022-12-06T11:58:50.038Z"
   },
   {
    "duration": 5,
    "start_time": "2022-12-06T11:58:50.076Z"
   },
   {
    "duration": 13,
    "start_time": "2022-12-06T11:58:50.082Z"
   },
   {
    "duration": 29,
    "start_time": "2022-12-06T11:58:50.097Z"
   }
  ],
  "kernelspec": {
   "display_name": "Python 3 (ipykernel)",
   "language": "python",
   "name": "python3"
  },
  "language_info": {
   "codemirror_mode": {
    "name": "ipython",
    "version": 3
   },
   "file_extension": ".py",
   "mimetype": "text/x-python",
   "name": "python",
   "nbconvert_exporter": "python",
   "pygments_lexer": "ipython3",
   "version": "3.9.12"
  },
  "toc": {
   "base_numbering": 1,
   "nav_menu": {},
   "number_sections": true,
   "sideBar": true,
   "skip_h1_title": true,
   "title_cell": "Table of Contents",
   "title_sidebar": "Contents",
   "toc_cell": false,
   "toc_position": {},
   "toc_section_display": true,
   "toc_window_display": true
  }
 },
 "nbformat": 4,
 "nbformat_minor": 2
}
